{
 "cells": [
  {
   "cell_type": "code",
   "execution_count": 1,
   "metadata": {},
   "outputs": [],
   "source": [
    "import pyedflib\n",
    "import numpy as np\n",
    "import pandas as pd\n",
    "import matplotlib.pyplot as plt"
   ]
  },
  {
   "cell_type": "code",
   "execution_count": 33,
   "metadata": {},
   "outputs": [],
   "source": [
    "import datetime"
   ]
  },
  {
   "cell_type": "code",
   "execution_count": 2,
   "metadata": {},
   "outputs": [],
   "source": [
    "f = pyedflib.EdfReader(r\"D:\\BaiduNetdiskDownload\\sz1.edf\")\n",
    "n = f.signals_in_file\n",
    "signal_labels = f.getSignalLabels()\n",
    "record = np.zeros((n, f.getNSamples()[0]))\n",
    "for i in np.arange(n):\n",
    "    record[i, :] = f.readSignal(i)"
   ]
  },
  {
   "cell_type": "code",
   "execution_count": 191,
   "metadata": {},
   "outputs": [],
   "source": [
    "def Q_P(x,y,bins):\n",
    "    '''\n",
    "    x,y 代表两个信号\n",
    "    bins代表区间\n",
    "    该函数返回每个区间的Q、P值\n",
    "    '''\n",
    "    sxy=pd.DataFrame({'x':x,'y':y})\n",
    "    #sxy=sxy.sort_values(by='x')\n",
    "    #sxy.index=range(len(sxy))\n",
    "    sxy['bins']=pd.cut(sxy['x'],bins,labels=range(1,len(bins)),include_lowest=True)\n",
    "    Q=[]\n",
    "    P=[]\n",
    "    for i in range(len(bins)-1):\n",
    "        Q.append(sxy[sxy.bins==i+1]['y'].mean())\n",
    "        P.append((bins[i]+bins[i+1])/2) \n",
    "    return Q,P\n",
    "\n",
    "def sx(i,x,P):\n",
    "    '''\n",
    "    i的取值范围是[1,len(P)-1]\n",
    "    '''\n",
    "    lp=len(P)\n",
    "    if(i==1):\n",
    "        if x<=P[1]:\n",
    "            return 1\n",
    "        else:\n",
    "            return 0\n",
    "    if(i==lp-1):\n",
    "        if x>P[lp-2]:\n",
    "            return 1\n",
    "        else:\n",
    "            return 0\n",
    "    if P[i-1]<x<=P[i]:\n",
    "        return 1\n",
    "    else:\n",
    "        return 0\n",
    "    \n",
    "def gx(i,x,Q,P):\n",
    "    '''\n",
    "    i的取值范围是[1,len(P)-1]\n",
    "    '''\n",
    "    k=(Q[i]-Q[i-1])/(P[i]-P[i-1])\n",
    "    gx=k*(x-P[i-1])+Q[i-1]\n",
    "    return gx\n",
    "\n",
    "def fx(x,Q,P):\n",
    "    '''\n",
    "    L: the number of bins\n",
    "    '''\n",
    "    L=len(P)\n",
    "    fx=0\n",
    "    for i in range(L-1):\n",
    "        fx+=sx(i+1,x,P)*gx(i+1,x,Q,P)\n",
    "    return fx   \n",
    "\n",
    "def h2(y,f):\n",
    "    my=np.mean(y)\n",
    "    sst=np.sum((y-my)**2)\n",
    "    sse=np.sum((y-f)**2)\n",
    "    h2=1-sse/sst\n",
    "    return h2"
   ]
  },
  {
   "cell_type": "code",
   "execution_count": 185,
   "metadata": {},
   "outputs": [],
   "source": [
    "def H2(s1,s2,L=7):\n",
    "    bins1=np.linspace(np.min(s1),np.max(s1),L)\n",
    "    Q1,P1=Q_P(s1,s2,bins1)\n",
    "    f1=[]\n",
    "    \n",
    "    for x in s1:\n",
    "        f1.append(fx(x,Q1,P1))\n",
    "    f1=np.array(f1)\n",
    "    h2s1=h2(s2,f1)\n",
    "    \n",
    "    bins2=np.linspace(np.min(s2),np.max(s2),L)\n",
    "    Q2,P2=Q_P(s2,s1,bins2)\n",
    "    f2=[]\n",
    "    for x in s2:\n",
    "        f2.append(fx(x,Q2,P2))\n",
    "    f2=np.array(f2)\n",
    "    h2s2=h2(s1,f2)\n",
    "    \n",
    "    s_h2 = [h2s1,h2s2]\n",
    "    #H2=np.array([[0,h2s1],[h2s2,0]])\n",
    "    #PQ=[[P1,Q1],[P2,Q2]]\n",
    "    #return H2,PQ\n",
    "    return s_h2\n",
    "\n",
    "\n",
    "def H2_xy(sx,sy,L=7):\n",
    "    bins = np.linspace(np.min(sx),np.max(sx),L)\n",
    "    Q,P =Q_P(sx,sy,bins)\n",
    "    f=[]\n",
    "    for x in sx:\n",
    "        f.append(fx(x,Q,P))\n",
    "    f=np.array(f)\n",
    "    h2_xy=h2(sy,f)\n",
    "    #PQ=[P,Q]\n",
    "    #return h2_xy,PQ\n",
    "    return h2_xy"
   ]
  },
  {
   "cell_type": "code",
   "execution_count": 56,
   "metadata": {},
   "outputs": [],
   "source": [
    "def H2_whole(signals,start_time,duration,sampleFreq,slideWindow=2,step=1,maxlag=0.1,L=7):\n",
    "    '''\n",
    "    signals：原始信号，numpy矩阵类型（二维矩阵），不求平均，穷举\n",
    "    slideWindows:滑动窗口\n",
    "    duration：信号的持续时间\n",
    "    '''\n",
    "    signals_num = len(signals)\n",
    "    if signals_num < 2:\n",
    "        print(\"Please input at least 2 signals to compute h2!\")\n",
    "        return None,None\n",
    "    \n",
    "    h2_num = int((duration-slideWindow-maxlag)//step + 1)\n",
    "    if h2_num <= 0:\n",
    "        print(\"Duration is too short to compute h2!\")\n",
    "        return None,None\n",
    "    \n",
    "    \n",
    "    h2_value = []\n",
    "    lag_value = []\n",
    "    \n",
    "     # 计算每次窗口滑动时的H2（每个时间段）\n",
    "    for ti in range(h2_num):\n",
    "        start_time_window = start_time + ti*step\n",
    "        stop_time_window = start_time_window + slideWindow\n",
    "        start_samples = start_time_window*sampleFreq\n",
    "        stop_samples = stop_time_window*sampleFreq\n",
    "        # 对角线上的值设置为 0\n",
    "        signals_h2 = np.zeros((signals_num,signals_num))\n",
    "        signals_lag = np.zeros((signals_num,signals_num))\n",
    "        # 计算每两个信号之间的H2: (0,1)，(0,2)，...，(0,n-1)；(1,2)，(1,3)，...，(1,n-1)；...(n-2,n-1)\n",
    "        for si1 in range(signals_num-1):\n",
    "            for si2 in range(si1+1,signals_num):\n",
    "                 # 设置两个信号之间的H2的初始值为0\n",
    "                two_signals_h2 = np.zeros(2) \n",
    "                two_signals_lag = np.zeros(2) \n",
    "                # 考虑时间延迟\n",
    "                # 计算x到y\n",
    "                sample_maxlag = int(maxlag*sampleFreq)\n",
    "                for tagi in range(sample_maxlag): # x向右移动，符号为正；y向右移动，符号为负\n",
    "                    #print(start_samples,stop_samples)\n",
    "                    s1 = signals[si1][start_samples:stop_samples]\n",
    "                    s1m = signals[si1][start_samples+tagi:stop_samples+tagi]\n",
    "                    s2 = signals[si2][start_samples:stop_samples]\n",
    "                    s2m = signals[si2][start_samples+tagi:stop_samples+tagi]\n",
    "                    # setSignaltoZero([s1,s1m,s2,s2m],1)  # 做归0处理\n",
    "                    \n",
    "                    h2_mn = H2(s1m,s2,L) # s1向右移\n",
    "                    h2_nm = H2(s1,s2m,L) # s2向右移\n",
    "                    \n",
    "                    if (h2_mn[0]>two_signals_h2[0])&(h2_mn[0]>h2_nm[0]):\n",
    "                        two_signals_h2[0] = h2_mn[0]\n",
    "                        two_signals_lag[0] = tagi\n",
    "                        \n",
    "                    elif h2_nm[0]>two_signals_h2[0]:\n",
    "                        two_signals_h2[0] = h2_nm[0]\n",
    "                        two_signals_lag[0] = -tagi\n",
    "                        \n",
    "                    if (h2_mn[1]>two_signals_h2[1])&(h2_mn[1]>h2_nm[0]):\n",
    "                        two_signals_h2[1] = h2_mn[1]\n",
    "                        two_signals_lag[1] = -tagi\n",
    "                        \n",
    "                    elif h2_nm[1]>two_signals_h2[1]:\n",
    "                        two_signals_h2[1] = h2_nm[1]\n",
    "                        two_signals_lag[1] = tagi\n",
    "                \n",
    "                signals_h2[si1,si2] = two_signals_h2[0]\n",
    "                signals_h2[si2,si1] = two_signals_h2[1]\n",
    "                signals_lag[si1,si2] = two_signals_lag[0]\n",
    "                signals_lag[si2,si1] = two_signals_lag[1]\n",
    "                \n",
    "        h2_value.append(signals_h2)\n",
    "        lag_value.append(signals_lag)\n",
    "    \n",
    "    return h2_value,lag_value"
   ]
  },
  {
   "cell_type": "code",
   "execution_count": 47,
   "metadata": {},
   "outputs": [],
   "source": [
    "def H2_whole2(signals,start_time,duration,sampleFreq,slideWindow=2,step=1,maxlag=0.1,L=7):\n",
    "    '''\n",
    "    版本2：求平均，穷举\n",
    "    signals：原始信号，numpy矩阵类型（二维矩阵）\n",
    "    slideWindows:滑动窗口\n",
    "    duration：信号的持续时间\n",
    "    '''\n",
    "    signals_num = len(signals)\n",
    "    if signals_num < 2:\n",
    "        print(\"Please input at least 2 signals to compute h2!\")\n",
    "        return None,None\n",
    "    \n",
    "    h2_num = int((duration-slideWindow-maxlag)//step + 1)\n",
    "    if h2_num <= 0:\n",
    "        print(\"Duration is too short to compute h2!\")\n",
    "        return None,None\n",
    "    \n",
    "    \n",
    "    h2_value = []\n",
    "    lag_value = []\n",
    "    \n",
    "     # 计算每次窗口滑动时的H2（每个时间段）\n",
    "    for ti in range(h2_num):\n",
    "        start_time_window = start_time + ti*step\n",
    "        stop_time_window = start_time_window + slideWindow\n",
    "        start_samples = start_time_window*sampleFreq\n",
    "        stop_samples = stop_time_window*sampleFreq\n",
    "        # 对角线上的值设置为 0\n",
    "        signals_h2 = np.zeros((signals_num,signals_num))\n",
    "        signals_lag = np.zeros((signals_num,signals_num))\n",
    "        # 计算每两个信号之间的H2: (0,1)，(0,2)，...，(0,n-1)；(1,2)，(1,3)，...，(1,n-1)；...(n-2,n-1)\n",
    "        for si1 in range(signals_num-1):\n",
    "            # s1 = signals[si1][start_samples:stop_samples]\n",
    "            [s1] = setSignaltoZero([signals[si1][start_samples:stop_samples]]) # 做归0处理\n",
    "            for si2 in range(si1+1,signals_num):\n",
    "                # s2 = signals[si2][start_samples:stop_samples]\n",
    "                [s2] = setSignaltoZero([signals[si2][start_samples:stop_samples]])\n",
    "                 # 设置两个信号之间的H2的初始值为0\n",
    "                two_signals_h2 = np.zeros(2) \n",
    "                two_signals_lag = np.zeros(2) \n",
    "                \n",
    "                h2_00 = H2(s1,s2,L)\n",
    "                two_signals_h2[0] = h2_00[0]\n",
    "                two_signals_h2[1] = h2_00[1]\n",
    "                # 考虑时间延迟\n",
    "                # 计算x到y\n",
    "                sample_maxlag = int(maxlag*sampleFreq)\n",
    "                for tagi in range(1,sample_maxlag): # x向右移动，符号为正；y向右移动，符号为负\n",
    "                    #print(start_samples,stop_samples)\n",
    "                    s1m = signals[si1][start_samples+tagi:stop_samples+tagi]\n",
    "                    s2m = signals[si2][start_samples+tagi:stop_samples+tagi]\n",
    "                    [s1m,s2m] = setSignaltoZero([s1m,s2m],1)  # 做归0处理\n",
    "                    \n",
    "                    h2_mn = H2(s1m,s2,L) # s1向右移\n",
    "                    h2_nm = H2(s1,s2m,L) # s2向右移\n",
    "                    \n",
    "                    if (h2_mn[0]>two_signals_h2[0])&(h2_mn[0]>h2_nm[0]):\n",
    "                        two_signals_h2[0] = h2_mn[0]\n",
    "                        two_signals_lag[0] = tagi\n",
    "                        \n",
    "                    elif h2_nm[0]>two_signals_h2[0]:\n",
    "                        two_signals_h2[0] = h2_nm[0]\n",
    "                        two_signals_lag[0] = -tagi\n",
    "                        \n",
    "                    if (h2_mn[1]>two_signals_h2[1])&(h2_mn[1]>h2_nm[0]):\n",
    "                        two_signals_h2[1] = h2_mn[1]\n",
    "                        two_signals_lag[1] = -tagi\n",
    "                        \n",
    "                    elif h2_nm[1]>two_signals_h2[1]:\n",
    "                        two_signals_h2[1] = h2_nm[1]\n",
    "                        two_signals_lag[1] = tagi\n",
    "                \n",
    "                signals_h2[si1,si2] = two_signals_h2[0]\n",
    "                signals_h2[si2,si1] = two_signals_h2[1]\n",
    "                signals_lag[si1,si2] = two_signals_lag[0]\n",
    "                signals_lag[si2,si1] = two_signals_lag[1]\n",
    "                \n",
    "        h2_value.append(signals_h2)\n",
    "        lag_value.append(signals_lag)\n",
    "    \n",
    "    return h2_value,lag_value\n"
   ]
  },
  {
   "cell_type": "code",
   "execution_count": 128,
   "metadata": {},
   "outputs": [],
   "source": [
    "def H2_whole3(signals,start_time,duration,sampleFreq,slideWindow=2,step=1,maxlag=0.1,L=7):\n",
    "    '''\n",
    "    版本3：不求平均，穷举\n",
    "    signals：原始信号，numpy矩阵类型（二维矩阵）\n",
    "    slideWindows:滑动窗口\n",
    "    duration：信号的持续时间\n",
    "    '''\n",
    "    time_flexity=1\n",
    "    signals_num = len(signals)\n",
    "    if signals_num < 2:\n",
    "        print(\"Please input at least 2 signals to compute h2!\")\n",
    "        return None,None\n",
    "    \n",
    "    h2_num = int((duration-slideWindow-maxlag)//step + 1)\n",
    "    if h2_num <= 0:\n",
    "        print(\"Duration is too short to compute h2!\")\n",
    "        return None,None\n",
    "    \n",
    "    \n",
    "    h2_value = []\n",
    "    lag_value = []\n",
    "    \n",
    "     # 计算每次窗口滑动时的H2（每个时间段）\n",
    "    for ti in range(h2_num):\n",
    "        start_time_window = start_time + ti*step\n",
    "        stop_time_window = start_time_window + slideWindow\n",
    "        start_samples = int(start_time_window*sampleFreq)\n",
    "        stop_samples = int(stop_time_window*sampleFreq)\n",
    "        # 对角线上的值设置为 0\n",
    "        signals_h2 = np.zeros((signals_num,signals_num))\n",
    "        signals_lag = np.zeros((signals_num,signals_num))\n",
    "        # 计算每两个信号之间的H2: (0,1)，(0,2)，...，(0,n-1)；(1,2)，(1,3)，...，(1,n-1)；...(n-2,n-1)\n",
    "        for si1 in range(signals_num-1):\n",
    "            s1 = signals[si1][start_samples:stop_samples]\n",
    "            # [s1] = setSignaltoZero([signals[si1][start_samples:stop_samples]]) # 做归0处理\n",
    "            for si2 in range(si1+1,signals_num):\n",
    "                s2 = signals[si2][start_samples:stop_samples]\n",
    "                #[s2] = setSignaltoZero([signals[si2][start_samples:stop_samples]])\n",
    "                # 设置两个信号之间的H2的初始值为0\n",
    "                two_signals_h2 = np.zeros(2) \n",
    "                two_signals_lag = np.zeros(2) \n",
    "                \n",
    "                h2_00 = H2(s1,s2,L)\n",
    "                two_signals_h2[0] = h2_00[0]\n",
    "                two_signals_h2[1] = h2_00[1]\n",
    "                # 考虑时间延迟\n",
    "                # 计算x到y\n",
    "                sample_maxlag = int(maxlag*sampleFreq)\n",
    "                for tagi in range(1,sample_maxlag): # x向右移动，符号为正；y向右移动，符号为负\n",
    "                    #print(start_samples,stop_samples)\n",
    "                    time_flexity += 1\n",
    "                    s1m = signals[si1][start_samples+tagi:stop_samples+tagi]\n",
    "                    s2m = signals[si2][start_samples+tagi:stop_samples+tagi]\n",
    "                    #[s1m,s2m] = setSignaltoZero([s1m,s2m],1)  # 做归0处理\n",
    "                    \n",
    "                    h2_mn = H2(s1m,s2,L) # s1向右移\n",
    "                    h2_nm = H2(s1,s2m,L) # s2向右移\n",
    "                    \n",
    "                    if (h2_mn[0]>two_signals_h2[0])&(h2_mn[0]>h2_nm[0]):\n",
    "                        two_signals_h2[0] = h2_mn[0]\n",
    "                        two_signals_lag[0] = tagi\n",
    "                        \n",
    "                    elif h2_nm[0]>two_signals_h2[0]:\n",
    "                        two_signals_h2[0] = h2_nm[0]\n",
    "                        two_signals_lag[0] = -tagi\n",
    "                        \n",
    "                    if (h2_mn[1]>two_signals_h2[1])&(h2_mn[1]>h2_nm[0]):\n",
    "                        two_signals_h2[1] = h2_mn[1]\n",
    "                        two_signals_lag[1] = -tagi\n",
    "                        \n",
    "                    elif h2_nm[1]>two_signals_h2[1]:\n",
    "                        two_signals_h2[1] = h2_nm[1]\n",
    "                        two_signals_lag[1] = tagi\n",
    "                \n",
    "                signals_h2[si1,si2] = two_signals_h2[0]\n",
    "                signals_h2[si2,si1] = two_signals_h2[1]\n",
    "                signals_lag[si1,si2] = two_signals_lag[0]\n",
    "                signals_lag[si2,si1] = two_signals_lag[1]\n",
    "                \n",
    "        h2_value.append(signals_h2)\n",
    "        lag_value.append(signals_lag)\n",
    "    \n",
    "    print(time_flexity)\n",
    "    return h2_value,lag_value"
   ]
  },
  {
   "cell_type": "code",
   "execution_count": 108,
   "metadata": {},
   "outputs": [],
   "source": [
    "def H2_whole_modify(signals,start_time,duration,sampleFreq,slideWindow=2,step=1,maxlag=0.1,L=7):\n",
    "    '''\n",
    "    版本4：不求平均,lag算法改进\n",
    "    signals：原始信号，numpy矩阵类型（二维矩阵）\n",
    "    slideWindows:滑动窗口\n",
    "    duration：信号的持续时间\n",
    "    '''\n",
    "    time_flexity=0\n",
    "    signals_num = len(signals)\n",
    "    if signals_num < 2:\n",
    "        print(\"Please input at least 2 signals to compute h2!\")\n",
    "        return None,None\n",
    "    \n",
    "    h2_num = int((duration-slideWindow-maxlag)//step + 1)\n",
    "    if h2_num <= 0:\n",
    "        print(\"Duration is too short to compute h2!\")\n",
    "        return None,None\n",
    "    \n",
    "    if maxlag <= 0:\n",
    "        print(\"Time maxlag must be greater than zero!\")\n",
    "        \n",
    "    h2_value = []\n",
    "    lag_value = []\n",
    "    \n",
    "     # 计算每次窗口滑动时的H2（每个时间段）\n",
    "    for ti in range(h2_num):\n",
    "        start_time_window = start_time + ti*step\n",
    "        stop_time_window = start_time_window + slideWindow\n",
    "        start_samples = int(start_time_window*sampleFreq)\n",
    "        stop_samples = int(stop_time_window*sampleFreq)\n",
    "        # 对角线上的值设置为 0\n",
    "        signals_h2 = np.zeros((signals_num,signals_num))\n",
    "        signals_lag = np.zeros((signals_num,signals_num))\n",
    "        # 计算每两个信号之间的H2: (0,1)，(0,2)，...，(0,n-1)；(1,2)，(1,3)，...，(1,n-1)；...(n-2,n-1)\n",
    "        for si1 in range(signals_num-1):\n",
    "            s1 = signals[si1][start_samples:stop_samples]\n",
    "            # [s1] = setSignaltoZero([signals[si1][start_samples:stop_samples]]) # 做归0处理\n",
    "            \n",
    "            for si2 in range(si1+1,signals_num):\n",
    "                s2 = signals[si2][start_samples:stop_samples]\n",
    "                #[s2] = setSignaltoZero([signals[si2][start_samples:stop_samples]])\n",
    "                \n",
    "                # 设置两个信号之间的H2的初始值为0\n",
    "                two_signals_h2 = np.zeros(2) \n",
    "                two_signals_lag = np.zeros(2) \n",
    "                \n",
    "                h2_00 = H2(s1,s2,L)\n",
    "                time_flexity += 1\n",
    "                two_signals_h2[0] = h2_00[0]\n",
    "                two_signals_h2[1] = h2_00[1]\n",
    "                # 考虑时间延迟\n",
    "                # 计算x到y\n",
    "                \n",
    "                maxlag_points = int(maxlag*sampleFreq) # 总共样本点\n",
    "                lag_interval = [0,maxlag_points] # time lag区间\n",
    "                intervalDELta = lag_interval[1]-lag_interval[0]\n",
    "                # 不盲目计算所有移动点的h2，采样计算\n",
    "                if intervalDELta > 12:\n",
    "                    \n",
    "                    sample_num = round(intervalDELta**0.5)\n",
    "                    #sample_point\n",
    "                    sample_points = np.percentile(range(lag_interval[0],lag_interval[1]),np.linspace(0,100,sample_num),interpolation='nearest')\n",
    "                    two_signals_sample_h2 = [[],[]] \n",
    "                    for tagi in sample_points[1:]: # x向右移动，符号为正；y向右移动，符号为负\n",
    "                        time_flexity += 2\n",
    "                        s1m = signals[si1][start_samples+tagi:stop_samples+tagi]\n",
    "                        s2m = signals[si2][start_samples+tagi:stop_samples+tagi]\n",
    "                        \n",
    "                        h2_mn = H2(s1m,s2,L) # s1向右移\n",
    "                        h2_nm = H2(s1,s2m,L) # s2向右移\n",
    "                        \n",
    "                        two_signals_sample_h2[0].append(h2_mn[0])\n",
    "                        two_signals_sample_h2[0].append(h2_nm[0])\n",
    "                        two_signals_sample_h2[1].append(h2_mn[1])\n",
    "                        two_signals_sample_h2[1].append(h2_nm[1])\n",
    "                    \n",
    "                    t1_h2 = np.max(two_signals_sample_h2[0])\n",
    "                    t2_h2 = np.max(two_signals_sample_h2[1])\n",
    "                    \n",
    "                    if t1_h2>two_signals_h2[0]:\n",
    "                        two_signals_h2[0] = t1_h2\n",
    "                        sub1_h2 = np.where(two_signals_sample_h2[0]==t1_h2)[0][0]\n",
    "                        if(sub1_h2%2==0): #说明s1向右移了\n",
    "                            two_signals_lag[0] = sample_points[sub1_h2//2+1]\n",
    "                        else:  #说明s2向右移了\n",
    "                            two_signals_lag[0] = -sample_points[sub1_h2//2+1]\n",
    "                        #if sub1_h2\n",
    "                    \n",
    "                    if t2_h2>two_signals_h2[1]:\n",
    "                        two_signals_h2[1] = t2_h2\n",
    "                        sub2_h2 = np.where(two_signals_sample_h2[1]==t2_h2)[0][0]\n",
    "                        if(sub2_h2%2==0): #说明s1向右移了\n",
    "                            two_signals_lag[1] = -sample_points[sub2_h2//2+1]\n",
    "                        else:  #说明s2向右移了\n",
    "                            two_signals_lag[1] = sample_points[sub2_h2//2+1]\n",
    "                    \n",
    "                    \n",
    "                    #while \n",
    "                    '''\n",
    "                    if (h2_mn[0]>two_signals_h2[0])&(h2_mn[0]>h2_nm[0]):\n",
    "                        two_signals_h2[0] = h2_mn[0]\n",
    "                        two_signals_lag[0] = tagi\n",
    "                        \n",
    "                    elif h2_nm[0]>two_signals_h2[0]:\n",
    "                        two_signals_h2[0] = h2_nm[0]\n",
    "                        two_signals_lag[0] = -tagi\n",
    "                        \n",
    "                    if (h2_mn[1]>two_signals_h2[1])&(h2_mn[1]>h2_nm[0]):\n",
    "                        two_signals_h2[1] = h2_mn[1]\n",
    "                        two_signals_lag[1] = -tagi\n",
    "                        \n",
    "                    elif h2_nm[1]>two_signals_h2[1]:\n",
    "                        two_signals_h2[1] = h2_nm[1]\n",
    "                        two_signals_lag[1] = tagi\n",
    "                    '''\n",
    "                    \n",
    "                signals_h2[si1,si2] = two_signals_h2[0]\n",
    "                signals_h2[si2,si1] = two_signals_h2[1]\n",
    "                signals_lag[si1,si2] = two_signals_lag[0]\n",
    "                signals_lag[si2,si1] = two_signals_lag[1]\n",
    "                \n",
    "        h2_value.append(signals_h2)\n",
    "        lag_value.append(signals_lag)\n",
    "    \n",
    "    print(time_flexity)\n",
    "    return h2_value,lag_value"
   ]
  },
  {
   "cell_type": "code",
   "execution_count": 145,
   "metadata": {},
   "outputs": [],
   "source": [
    "def compare3(one,two,three):\n",
    "    \"\"\"\n",
    "    比较3个数的大小，返回最大值及其索引（位置）\n",
    "    \"\"\"\n",
    "    if one >= max(two,three):\n",
    "        return one,1\n",
    "    if two >= three:\n",
    "        return two,2\n",
    "    return three,3\n",
    "\n",
    "    \n",
    "def H2_whole_dichotomy(signals,start_time,duration,sampleFreq,slideWindow=2,step=1,maxlag=0.1,L=7):\n",
    "    '''\n",
    "    版本5：不求平均,lag算法改进,采用二分法计算最大h2\n",
    "    signals：原始信号，numpy矩阵类型（二维矩阵）\n",
    "    slideWindows:滑动窗口\n",
    "    duration：信号的持续时间\n",
    "    '''\n",
    "    signals_num = len(signals)\n",
    "    if signals_num < 2:\n",
    "        print(\"Please input at least 2 signals to compute h2!\")\n",
    "        return None,None\n",
    "    \n",
    "    h2_num = int((duration-slideWindow-maxlag)//step + 1)\n",
    "    if h2_num <= 0:\n",
    "        print(\"Duration is too short to compute h2!\")\n",
    "        return None,None\n",
    "    \n",
    "    if maxlag <= 0:\n",
    "        print(\"Time maxlag must be greater than zero!\")\n",
    "        \n",
    "    h2_value = []\n",
    "    lag_value = []\n",
    "    dict_sample = dict()\n",
    "     # 计算每次窗口滑动时的H2（每个时间段）\n",
    "    for ti in range(h2_num):\n",
    "        start_time_window = start_time + ti*step\n",
    "        stop_time_window = start_time_window + slideWindow\n",
    "        start_samples = int(start_time_window*sampleFreq)\n",
    "        stop_samples = int(stop_time_window*sampleFreq)\n",
    "        # 对角线上的值设置为 0\n",
    "        signals_h2 = np.zeros((signals_num,signals_num))\n",
    "        signals_lag = np.zeros((signals_num,signals_num))\n",
    "        # 计算每两个信号之间的H2: (0,1)，(0,2)，...，(0,n-1)；(1,2)，(1,3)，...，(1,n-1)；...(n-2,n-1)\n",
    "        for si1 in range(signals_num-1):\n",
    "            s1 = signals[si1][start_samples:stop_samples]\n",
    "            # [s1] = setSignaltoZero([signals[si1][start_samples:stop_samples]]) # 做归0处理\n",
    "            \n",
    "            for si2 in range(si1+1,signals_num):\n",
    "                s2 = signals[si2][start_samples:stop_samples]\n",
    "                #[s2] = setSignaltoZero([signals[si2][start_samples:stop_samples]])\n",
    "                \n",
    "                # 设置两个信号之间的H2的初始值为0\n",
    "                two_signals_h2 = np.zeros(2) \n",
    "                two_signals_lag = np.zeros(2) \n",
    "                \n",
    "                h2_00 = H2(s1,s2,L)\n",
    "                \n",
    "                two_signals_h2[0] = h2_00[0]\n",
    "                two_signals_h2[1] = h2_00[1]\n",
    "                # 考虑时间延迟\n",
    "                # 计算x到y\n",
    "                \n",
    "                maxlag_points = int(maxlag*sampleFreq) # 总共样本点\n",
    "                left = new_left = new_median = new_right = 0\n",
    "                median = maxlag_points//2\n",
    "                right = maxlag_points - 1\n",
    "                \n",
    "                # sample_points = [left,median,right]\n",
    "                    \n",
    "#                 left0_h2 = two_signals_h2[0]\n",
    "#                 left1_h2 = two_signals_h2[1]\n",
    "                median0_h2 = median1_h2 = right0_h2 = right1_h2 = 0\n",
    "                \n",
    "                # x向右移动，符号为正；y向右移动，符号为负\n",
    "                \n",
    "                median_s1m = signals[si1][start_samples+median:stop_samples+median]\n",
    "                median_s2m = signals[si2][start_samples+median:stop_samples+median]\n",
    "                \n",
    "                right_s1m = signals[si1][start_samples+right:stop_samples+right]\n",
    "                right_s2m = signals[si2][start_samples+right:stop_samples+right]\n",
    "                \n",
    "                median_h2_mn = H2(median_s1m,s2,L) # s1向右移\n",
    "                median_h2_nm = H2(s1,median_s2m,L) # s2向右移\n",
    "                \n",
    "                right_h2_mn = H2(right_s1m,s2,L) # s1向右移\n",
    "                right_h2_nm = H2(s1,right_s2m,L) # s2向右移\n",
    "                \n",
    "                t0_h2 = [two_signals_h2[0],median_h2_nm[0],median_h2_mn[0],right_h2_nm[0],right_h2_mn[0]]\n",
    "                t1_h2 = [two_signals_h2[1],median_h2_mn[1],median_h2_nm[1],right_h2_mn[1],right_h2_nm[1]]\n",
    "                \n",
    "                t0_h2_max = max(t0_h2)\n",
    "                t1_h2_max = max(t1_h2)\n",
    "                \n",
    "                t0_index = t0_h2.index(t0_h2_max)\n",
    "                t1_index = t1_h2.index(t1_h2_max)\n",
    "                \n",
    "                old_h2_value = [0,0,0]\n",
    "                dict_sample.clear()\n",
    "                \n",
    "                sign = 1 # 符号位，判断是x移动还是y移动\n",
    "                \n",
    "                if t0_index: # 如果 t0_index>0,说明0除不是最大值\n",
    "                    two_signals_h2[0] = t0_h2_max\n",
    "                    sign = (-1)**t0_index\n",
    "                    if t0_index <= 2:\n",
    "                        two_signals_lag[0] = sign*median\n",
    "                        new_left = (median+left)//2\n",
    "                        new_median = median\n",
    "                        new_right = (median+right)//2\n",
    "                        #old_h2_value[1] = t0_h2_max\n",
    "                    else:\n",
    "                        two_signals_lag[0] = sign*right\n",
    "                        new_left = median\n",
    "                        new_median = (median+right)//2\n",
    "                        new_right = right\n",
    "                        #old_h2_value[0] = t0_h2[t0_index-2]\n",
    "                        #old_h2_value[2] = t0_h2_max\n",
    "                else:\n",
    "                    if t0_h2[1] > t0_h2[2]: # 如果中值情况下，s2向右移的h2大于s1向右移，则符号为负\n",
    "                        sign = -1\n",
    "#                         old_h2_value[2]=t0_h2[1]\n",
    "#                     else:\n",
    "#                         old_h2_value[2]=t0_h2[2]\n",
    "                    new_left = left\n",
    "                    new_median = (median+left)//2\n",
    "                    new_right = median\n",
    "                    #old_h2_value[0] = t0_h2_max\n",
    "                print(sign)    \n",
    "                dict_sample[left]=t0_h2[0]\n",
    "                if sign>0:\n",
    "                    dict_sample[median]=t0_h2[2]\n",
    "                    dict_sample[right]=t0_h2[4]\n",
    "                else:\n",
    "                    dict_sample[median]=t0_h2[1]\n",
    "                    dict_sample[right]=t0_h2[3]\n",
    "                    \n",
    "                while (new_right-new_left) > 2:\n",
    "                    t0_h2 = []\n",
    "                    if dict_sample.get(new_left):\n",
    "                        t0_h2.append(dict_sample[new_left])\n",
    "                    else:\n",
    "                        if sign>0: # 说明sx向右移\n",
    "                            sxx = signals[si1][start_samples+new_left:stop_samples+new_left]\n",
    "                            t0_h2.append(H2_xy(sxx,s2,L))\n",
    "                        else:\n",
    "                            syy = signals[si2][start_samples+new_left:stop_samples+new_left]\n",
    "                            t0_h2.append(H2_xy(s1,syy,L))\n",
    "                        dict_sample[new_left] = t0_h2[0]\n",
    "                            \n",
    "                    if dict_sample.get(new_median):\n",
    "                        t0_h2.append(dict_sample[new_median])\n",
    "                    else:\n",
    "                        if sign>0: # 说明sx向右移\n",
    "                            sxx = signals[si1][start_samples+new_median:stop_samples+new_median]\n",
    "                            t0_h2.append(H2_xy(sxx,s2,L))\n",
    "                        else:\n",
    "                            syy = signals[si2][start_samples+new_median:stop_samples+new_median]\n",
    "                            t0_h2.append(H2_xy(s1,syy,L))\n",
    "                        dict_sample[new_median] = t0_h2[1]\n",
    "                        \n",
    "                    if dict_sample.get(new_right):\n",
    "                        t0_h2.append(dict_sample[new_right])\n",
    "                    else:\n",
    "                        if sign>0: # 说明sx向右移\n",
    "                            sxx = signals[si1][start_samples+new_right:stop_samples+new_right]\n",
    "                            t0_h2.append(H2_xy(sxx,s2,L))\n",
    "                        else:\n",
    "                            syy = signals[si2][start_samples+new_right:stop_samples+new_right]\n",
    "                            t0_h2.append(H2_xy(s1,syy,L))\n",
    "                        dict_sample[new_right] = t0_h2[2]\n",
    "                            \n",
    "                    two_signals_h2[0] = max(t0_h2)\n",
    "                    t0_index = t0_h2.index(two_signals_h2[0])\n",
    "                    \n",
    "                    if t0_index == 1:\n",
    "                        two_signals_lag[0] = sign*new_median\n",
    "                        left = new_left\n",
    "                        right = new_right\n",
    "                        new_left = (new_left+new_median)//2\n",
    "                        new_right = (new_median+new_right)//2\n",
    "                    elif t0_index == 0:\n",
    "                        two_signals_lag[0] = sign*new_left\n",
    "                        if left==new_left:\n",
    "                            right = new_right = new_median\n",
    "                            new_median = (new_right+new_left)//2\n",
    "                        else:\n",
    "                            right = new_median\n",
    "                            new_right = (new_median+new_left)//2\n",
    "                            new_median = new_left\n",
    "                            new_left = (left+new_left)//2\n",
    "                    else:\n",
    "                        two_signals_lag[0] = sign*new_right\n",
    "                        if right==new_right:\n",
    "                            left = new_left = new_median\n",
    "                            new_median = (new_right+new_left)//2\n",
    "                        else:\n",
    "                            left = new_median\n",
    "                            new_left = (new_median+new_right)//2\n",
    "                            new_median = new_right\n",
    "                            new_right = (new_right+right)//2\n",
    "                            \n",
    "                    print(t0_index,left,right,new_left,new_median,new_right)        \n",
    "                print(dict_sample)\n",
    "                \n",
    "#                 if t1_index: # 如果 t0_index>0,说明0除不是最大值\n",
    "#                     two_signals_h2[1] = t1_h2_max\n",
    "#                     if t1_index <= 2:\n",
    "#                         two_signals_lag[1] = ((-1)**t1_index)*median\n",
    "#                         new_left = (median+left)//2\n",
    "#                         new_median = median\n",
    "#                         new_right = (median+right)//2\n",
    "                        \n",
    "                        \n",
    "                        \n",
    "#                     else:\n",
    "#                         two_signals_lag[1] = ((-1)**t1_index)*right\n",
    "#                         new_left = median\n",
    "#                         new_median = (median+right)//2\n",
    "#                         new_right = right\n",
    "                        \n",
    "#                 else:\n",
    "#                     new_left = left\n",
    "#                     new_median = (median+left)//2\n",
    "#                     new_right = median\n",
    "                \n",
    "                \n",
    "                \n",
    "                signals_h2[si1,si2] = two_signals_h2[0]\n",
    "                signals_h2[si2,si1] = two_signals_h2[1]\n",
    "                signals_lag[si1,si2] = two_signals_lag[0]\n",
    "                signals_lag[si2,si1] = two_signals_lag[1]\n",
    "                \n",
    "        h2_value.append(signals_h2)\n",
    "        lag_value.append(signals_lag)\n",
    "    \n",
    "    #print(time_flexity)\n",
    "    return h2_value,lag_value"
   ]
  },
  {
   "cell_type": "code",
   "execution_count": 173,
   "metadata": {},
   "outputs": [],
   "source": [
    "def H2_whole_dichotomy2(signals,start_time,duration,sampleFreq,slideWindow=2,step=1,maxlag=0.1,L=7):\n",
    "    '''\n",
    "    版本6：不求平均,lag算法改进,采用二分法计算最大h2，初始采用7点采样（而不是三点）\n",
    "    signals：原始信号，numpy矩阵类型（二维矩阵）\n",
    "    slideWindows:滑动窗口\n",
    "    duration：信号的持续时间\n",
    "    '''\n",
    "    signals_num = len(signals)\n",
    "    if signals_num < 2:\n",
    "        print(\"Please input at least 2 signals to compute h2!\")\n",
    "        return None,None\n",
    "    \n",
    "    h2_num = int((duration-slideWindow-maxlag)//step + 1)\n",
    "    if h2_num <= 0:\n",
    "        print(\"Duration is too short to compute h2!\")\n",
    "        return None,None\n",
    "    \n",
    "    if maxlag <= 0:\n",
    "        print(\"Time maxlag must be greater than zero!\")\n",
    "        \n",
    "    h2_value = []\n",
    "    lag_value = []\n",
    "    dict_sample = dict()\n",
    "     # 计算每次窗口滑动时的H2（每个时间段）\n",
    "    for ti in range(h2_num):\n",
    "        start_time_window = start_time + ti*step\n",
    "        stop_time_window = start_time_window + slideWindow\n",
    "        start_samples = int(start_time_window*sampleFreq)\n",
    "        stop_samples = int(stop_time_window*sampleFreq)\n",
    "        # 对角线上的值设置为 0\n",
    "        signals_h2 = np.zeros((signals_num,signals_num))\n",
    "        signals_lag = np.zeros((signals_num,signals_num))\n",
    "        # 计算每两个信号之间的H2: (0,1)，(0,2)，...，(0,n-1)；(1,2)，(1,3)，...，(1,n-1)；...(n-2,n-1)\n",
    "        for si1 in range(signals_num-1):\n",
    "            s1 = signals[si1][start_samples:stop_samples]\n",
    "            # [s1] = setSignaltoZero([signals[si1][start_samples:stop_samples]]) # 做归0处理\n",
    "            \n",
    "            for si2 in range(si1+1,signals_num):\n",
    "                s2 = signals[si2][start_samples:stop_samples]\n",
    "                #[s2] = setSignaltoZero([signals[si2][start_samples:stop_samples]])\n",
    "                \n",
    "                # 设置两个信号之间的H2的初始值为0\n",
    "                two_signals_h2 = np.zeros(2) \n",
    "                two_signals_lag = np.zeros(2) \n",
    "                \n",
    "                h2_00 = H2(s1,s2,L)\n",
    "                \n",
    "                two_signals_h2[0] = h2_00[0]\n",
    "                two_signals_h2[1] = h2_00[1]\n",
    "                # 考虑时间延迟\n",
    "                # 计算x到y\n",
    "                \n",
    "                maxlag_points = int(maxlag*sampleFreq) # 总共样本点\n",
    "                sample_num = int(maxlag_points**0.5-maxlag_points**0.25)\n",
    "                if sample_num < 3:\n",
    "                    sample_num = 3\n",
    "                sample_points = np.percentile(range(0,maxlag_points),np.linspace(0,100,sample_num),interpolation='nearest')\n",
    "                \n",
    "                t0_h2 = []\n",
    "                t1_h2 = []\n",
    "                dict_sample.clear()\n",
    "                sign = 1 # 符号位，判断是x移动还是y移动\n",
    "                left = right = new_left = new_median = new_right = 0\n",
    "                \n",
    "                for tagi in sample_points[1:]: # x向右移动，符号为正；y向右移动，符号为负\n",
    "                    \n",
    "                    s1m = signals[si1][start_samples+tagi:stop_samples+tagi]\n",
    "                    s2m = signals[si2][start_samples+tagi:stop_samples+tagi]\n",
    "\n",
    "                    h2_mn = H2(s1m,s2,L) # s1向右移\n",
    "                    h2_nm = H2(s1,s2m,L) # s2向右移\n",
    "\n",
    "                    t0_h2.extend([h2_mn[0],h2_nm[0]])\n",
    "                    t1_h2.extend([h2_mn[1],h2_nm[1]])\n",
    "                \n",
    "                t0_h2_max = max(t0_h2)\n",
    "                t1_h2_max = max(t1_h2)\n",
    "                \n",
    "                t0_index = t0_h2.index(t0_h2_max)\n",
    "                t1_index = t1_h2.index(t1_h2_max)\n",
    "                \n",
    "                sign = (-1)**t0_index\n",
    "                if t0_h2_max>two_signals_h2[0]:\n",
    "                    two_signals_h2[0] = t0_h2_max\n",
    "                    sub0_h2 = t0_index//2 + 1\n",
    "                    two_signals_lag[0] = sign*sample_points[sub0_h2]\n",
    "                    if sub0_h2 < (sample_num - 1):\n",
    "                        left = sample_points[sub0_h2-1]\n",
    "                        right = sample_points[sub0_h2+1]\n",
    "                        new_median = sample_points[sub0_h2]\n",
    "                        new_left = (left+new_median)//2\n",
    "                        new_right = (right+new_median)//2\n",
    "                        #dict_sample[left] = t0_h2[t0_index-2]\n",
    "                        dict_sample[new_median] = t0_h2[t0_index]\n",
    "                        #dict_sample[right] = t0_h2[t0_index+2]\n",
    "                    else:\n",
    "                        left = sample_points[sub0_h2-2]\n",
    "                        new_right = right = sample_points[sub0_h2]\n",
    "                        new_median = (sample_points[sub0_h2]+sample_points[sub0_h2-1])//2\n",
    "                        new_left = (sample_points[sub0_h2-1]+sample_points[sub0_h2-2])//2\n",
    "                        dict_sample[sample_points[sub0_h2-1]] = t0_h2[t0_index-2]\n",
    "                        dict_sample[right] = t0_h2[t0_index]\n",
    "                else:\n",
    "                    right = sample_points[2]\n",
    "                    new_left = left = 0\n",
    "                    new_right = (right+sample_points[1])//2\n",
    "                    new_median = sample_points[1]//2\n",
    "                    dict_sample[sample_points[1]] = t0_h2[(1-sign)//2]\n",
    "                    dict_sample[0] = two_signals_h2[0]\n",
    "                \n",
    "                #print(sign,t0_index,sample_points[t0_index//2 + 1],left,right,new_left,new_median,new_right)\n",
    "                while (new_right-new_left) >= 2:\n",
    "                    t0_h2 = []\n",
    "                    if dict_sample.get(new_left):\n",
    "                        t0_h2.append(dict_sample[new_left])\n",
    "                    else:\n",
    "                        if sign>0: # 说明sx向右移\n",
    "                            sxx = signals[si1][start_samples+new_left:stop_samples+new_left]\n",
    "                            t0_h2.append(H2_xy(sxx,s2,L))\n",
    "                        else:\n",
    "                            syy = signals[si2][start_samples+new_left:stop_samples+new_left]\n",
    "                            t0_h2.append(H2_xy(s1,syy,L))\n",
    "                        dict_sample[new_left] = t0_h2[0]\n",
    "                            \n",
    "                    if dict_sample.get(new_median):\n",
    "                        t0_h2.append(dict_sample[new_median])\n",
    "                    else:\n",
    "                        if sign>0: # 说明sx向右移\n",
    "                            sxx = signals[si1][start_samples+new_median:stop_samples+new_median]\n",
    "                            t0_h2.append(H2_xy(sxx,s2,L))\n",
    "                        else:\n",
    "                            syy = signals[si2][start_samples+new_median:stop_samples+new_median]\n",
    "                            t0_h2.append(H2_xy(s1,syy,L))\n",
    "                        dict_sample[new_median] = t0_h2[1]\n",
    "                        \n",
    "                    if dict_sample.get(new_right):\n",
    "                        t0_h2.append(dict_sample[new_right])\n",
    "                    else:\n",
    "                        if sign>0: # 说明sx向右移\n",
    "                            sxx = signals[si1][start_samples+new_right:stop_samples+new_right]\n",
    "                            t0_h2.append(H2_xy(sxx,s2,L))\n",
    "                        else:\n",
    "                            syy = signals[si2][start_samples+new_right:stop_samples+new_right]\n",
    "                            t0_h2.append(H2_xy(s1,syy,L))\n",
    "                        dict_sample[new_right] = t0_h2[2]\n",
    "                            \n",
    "                    two_signals_h2[0] = max(t0_h2)\n",
    "                    t0_index = t0_h2.index(two_signals_h2[0])\n",
    "                    \n",
    "                    if t0_index == 1:\n",
    "                        two_signals_lag[0] = sign*new_median\n",
    "                        left = new_left\n",
    "                        right = new_right\n",
    "                        new_left = (new_left+new_median)//2\n",
    "                        new_right = (new_median+new_right)//2\n",
    "                    elif t0_index == 0:\n",
    "                        two_signals_lag[0] = sign*new_left\n",
    "                        if left==new_left:\n",
    "                            right = new_right = new_median\n",
    "                            new_median = (new_right+new_left)//2\n",
    "                        else:\n",
    "                            right = new_median\n",
    "                            new_right = (new_median+new_left)//2\n",
    "                            new_median = new_left\n",
    "                            new_left = (left+new_left)//2\n",
    "                    else:\n",
    "                        two_signals_lag[0] = sign*new_right\n",
    "                        if right==new_right:\n",
    "                            left = new_left = new_median\n",
    "                            new_median = (new_right+new_left)//2\n",
    "                        else:\n",
    "                            left = new_median\n",
    "                            new_left = (new_median+new_right)//2\n",
    "                            new_median = new_right\n",
    "                            new_right = (new_right+right)//2\n",
    "                    \n",
    "                sign = (-1)**(t1_index+1)\n",
    "                dict_sample.clear()\n",
    "                if t1_h2_max>two_signals_h2[1]:\n",
    "                    two_signals_h2[1] = t1_h2_max\n",
    "                    sub1_h2 = t1_index//2 + 1\n",
    "                    two_signals_lag[1] = sign*sample_points[sub1_h2]\n",
    "                    if sub1_h2 < (sample_num - 1):\n",
    "                        left = sample_points[sub1_h2-1]\n",
    "                        right = sample_points[sub1_h2+1]\n",
    "                        new_median = sample_points[sub1_h2]\n",
    "                        new_left = (left+new_median)//2\n",
    "                        new_right = (right+new_median)//2\n",
    "                        #dict_sample[left] = t0_h2[t0_index-2]\n",
    "                        dict_sample[new_median] = t1_h2[t1_index]\n",
    "                        #dict_sample[right] = t0_h2[t0_index+2]\n",
    "                    else:\n",
    "                        left = sample_points[sub1_h2-2]\n",
    "                        new_right = right = sample_points[sub1_h2]\n",
    "                        new_median = (sample_points[sub1_h2]+sample_points[sub1_h2-1])//2\n",
    "                        new_left = (sample_points[sub1_h2-1]+sample_points[sub1_h2-2])//2\n",
    "                        dict_sample[sample_points[sub1_h2-1]] = t1_h2[t1_index-2]\n",
    "                        dict_sample[right] = t1_h2[t1_index]\n",
    "                else:\n",
    "                    right = sample_points[2]\n",
    "                    new_left = left = 0\n",
    "                    new_right = (right+sample_points[1])//2\n",
    "                    new_median = sample_points[1]//2\n",
    "                    dict_sample[sample_points[1]] = t1_h2[(1+sign)//2]\n",
    "                    dict_sample[0] = two_signals_h2[1]\n",
    "                \n",
    "                #print(sign,t0_index,sample_points[t0_index//2 + 1],left,right,new_left,new_median,new_right)\n",
    "                while (new_right-new_left) >= 2:\n",
    "                    t1_h2 = []\n",
    "                    if dict_sample.get(new_left):\n",
    "                        t1_h2.append(dict_sample[new_left])\n",
    "                    else:\n",
    "                        if sign<0: # 说明sx向右移\n",
    "                            sxx = signals[si1][start_samples+new_left:stop_samples+new_left]\n",
    "                            t1_h2.append(H2_xy(s2,sxx,L))\n",
    "                        else:\n",
    "                            syy = signals[si2][start_samples+new_left:stop_samples+new_left]\n",
    "                            t1_h2.append(H2_xy(syy,s1,L))\n",
    "                        dict_sample[new_left] = t1_h2[0]\n",
    "                            \n",
    "                    if dict_sample.get(new_median):\n",
    "                        t1_h2.append(dict_sample[new_median])\n",
    "                    else:\n",
    "                        if sign<0: # 说明sx向右移\n",
    "                            sxx = signals[si1][start_samples+new_median:stop_samples+new_median]\n",
    "                            t1_h2.append(H2_xy(s2,sxx,L))\n",
    "                        else:\n",
    "                            syy = signals[si2][start_samples+new_median:stop_samples+new_median]\n",
    "                            t1_h2.append(H2_xy(syy,s1,L))\n",
    "                        dict_sample[new_median] = t1_h2[1]\n",
    "                        \n",
    "                    if dict_sample.get(new_right):\n",
    "                        t1_h2.append(dict_sample[new_right])\n",
    "                    else:\n",
    "                        if sign<0: # 说明sx向右移\n",
    "                            sxx = signals[si1][start_samples+new_right:stop_samples+new_right]\n",
    "                            t1_h2.append(H2_xy(s2,sxx,L))\n",
    "                        else:\n",
    "                            syy = signals[si2][start_samples+new_right:stop_samples+new_right]\n",
    "                            t1_h2.append(H2_xy(syy,s1,L))\n",
    "                        dict_sample[new_right] = t1_h2[2]\n",
    "                            \n",
    "                    two_signals_h2[1] = max(t1_h2)\n",
    "                    t1_index = t1_h2.index(two_signals_h2[1])\n",
    "                    \n",
    "                    if t1_index == 1:\n",
    "                        two_signals_lag[1] = sign*new_median\n",
    "                        left = new_left\n",
    "                        right = new_right\n",
    "                        new_left = (new_left+new_median)//2\n",
    "                        new_right = (new_median+new_right)//2\n",
    "                    elif t1_index == 0:\n",
    "                        two_signals_lag[1] = sign*new_left\n",
    "                        if left==new_left:\n",
    "                            right = new_right = new_median\n",
    "                            new_median = (new_right+new_left)//2\n",
    "                        else:\n",
    "                            right = new_median\n",
    "                            new_right = (new_median+new_left)//2\n",
    "                            new_median = new_left\n",
    "                            new_left = (left+new_left)//2\n",
    "                    else:\n",
    "                        two_signals_lag[1] = sign*new_right\n",
    "                        if right==new_right:\n",
    "                            left = new_left = new_median\n",
    "                            new_median = (new_right+new_left)//2\n",
    "                        else:\n",
    "                            left = new_median\n",
    "                            new_left = (new_median+new_right)//2\n",
    "                            new_median = new_right\n",
    "                            new_right = (new_right+right)//2\n",
    "                            \n",
    "                    #print(t0_index,left,right,new_left,new_median,new_right)        \n",
    "                #print(dict_sample)\n",
    "                \n",
    "                signals_h2[si1,si2] = two_signals_h2[0]\n",
    "                signals_h2[si2,si1] = two_signals_h2[1]\n",
    "                signals_lag[si1,si2] = two_signals_lag[0]\n",
    "                signals_lag[si2,si1] = two_signals_lag[1]\n",
    "                \n",
    "        h2_value.append(signals_h2)\n",
    "        lag_value.append(signals_lag)\n",
    "    \n",
    "    #print(time_flexity)\n",
    "    return h2_value,lag_value"
   ]
  },
  {
   "cell_type": "code",
   "execution_count": 17,
   "metadata": {},
   "outputs": [],
   "source": [
    "def plot_s(s1,s1_name,s2,s2_name,tstart,tstop,L=11):\n",
    "    plt.figure(figsize=(16,10))\n",
    "    plt.subplot(211)\n",
    "    plt.plot(s1,'r',label=s1_name)\n",
    "    plt.xticks(interval(0,len(s1)-1,L),fmat(np.linspace(tstart,tstop,L)))\n",
    "    plt.legend()\n",
    "    plt.grid()\n",
    "\n",
    "    plt.subplot(212)\n",
    "    plt.plot(s2,'b',label=s2_name)\n",
    "    plt.xticks(interval(0,len(s2)-1,L),fmat(np.linspace(tstart,tstop,L)))\n",
    "    plt.grid()\n",
    "    plt.legend()\n",
    "\n",
    "    plt.show()\n",
    "\n",
    "    \n",
    "def scatter_h2(s1,s1_name,s2,s2_name,tstart,tstop,L,PQ):\n",
    "    plt.figure(figsize=(15,12))\n",
    "    ax1=plt.subplot(211)\n",
    "    ax1.scatter(s1,s2,color='b')\n",
    "    ax1.plot(PQ[0][0],PQ[0][1],'r')\n",
    "    ax1.set_xlabel(s1_name)\n",
    "    ax1.set_ylabel(s2_name)\n",
    "    plt.xticks(interval(np.min(s1),np.max(s1),L),fmat(np.linspace(tstart,tstop,L)))\n",
    "    plt.grid()\n",
    "\n",
    "    ax2=plt.subplot(212)\n",
    "    ax2.scatter(s2,s1,color='b')\n",
    "    ax2.plot(PQ[1][0],PQ[1][1],'r')\n",
    "    ax2.set_ylabel(s1_name)\n",
    "    ax2.set_xlabel(s2_name)\n",
    "    plt.xticks(interval(np.min(s2),np.max(s2),L),fmat(np.linspace(tstart,tstop,L)))\n",
    "    plt.grid()"
   ]
  },
  {
   "cell_type": "code",
   "execution_count": 11,
   "metadata": {},
   "outputs": [],
   "source": [
    "def setSignaltoZero(signals,iteration=1):\n",
    "    '''\n",
    "    signals：二维矩阵(传入引用)\n",
    "    iteration:迭代次数\n",
    "    '''\n",
    "    n = len(signals)\n",
    "    signals_mean = np.zeros(n)\n",
    "    for iter in range(iteration):\n",
    "        #print(\"Iteration: \",iter+1)\n",
    "        for i in range(n):\n",
    "            signals_mean[i] = np.mean(signals[i])\n",
    "            signals[i] = signals[i] - signals_mean[i] #如果是数组，则返回新数组\n",
    "            #print(np.mean(signals[i]))    \n",
    "    return signals\n",
    "\n",
    "\n",
    "interval=lambda min,max,N:np.linspace(min,max,N)\n",
    "def fmat(li):\n",
    "    '''\n",
    "    li中的元素保留一位有效数字\n",
    "    '''\n",
    "    for i in range(len(li)):\n",
    "        li[i]=round(li[i],1)\n",
    "    return li"
   ]
  },
  {
   "cell_type": "code",
   "execution_count": 7,
   "metadata": {},
   "outputs": [
    {
     "data": {
      "text/plain": [
       "(-1.8408172763884068e-12, -6.09361450187862e-14)"
      ]
     },
     "execution_count": 7,
     "metadata": {},
     "output_type": "execute_result"
    }
   ],
   "source": [
    "mean56_02,mean66_02=np.mean(record[56,0:2000]),np.mean(record[66,0:2000])\n",
    "s56_02,s66_02=record[56,0:2000]-mean56_02,record[66,0:2000]-mean66_02\n",
    "\n",
    "np.mean(s56_02),np.mean(s66_02)"
   ]
  },
  {
   "cell_type": "code",
   "execution_count": 8,
   "metadata": {
    "scrolled": true
   },
   "outputs": [
    {
     "data": {
      "image/png": "[encoded data removed]",
      "text/plain": [
       "<Figure size 1152x720 with 2 Axes>"
      ]
     },
     "metadata": {
      "needs_background": "light"
     },
     "output_type": "display_data"
    }
   ],
   "source": [
    "plot_s(s56_02,\"s56_02\",s66_02,\"s66_02\",0,2)"
   ]
  },
  {
   "cell_type": "code",
   "execution_count": 9,
   "metadata": {
    "scrolled": true
   },
   "outputs": [
    {
     "data": {
      "image/png": "[encoded data removed]",
      "text/plain": [
       "<Figure size 1152x720 with 2 Axes>"
      ]
     },
     "metadata": {
      "needs_background": "light"
     },
     "output_type": "display_data"
    }
   ],
   "source": [
    "plot_s(record[56,0:2000],\"56_02\",record[66,0:2000],\"66_02\",0,2)"
   ]
  },
  {
   "cell_type": "code",
   "execution_count": 10,
   "metadata": {},
   "outputs": [
    {
     "data": {
      "text/plain": [
       "[0.25181297501589095, 0.30769570235771204]"
      ]
     },
     "execution_count": 10,
     "metadata": {},
     "output_type": "execute_result"
    }
   ],
   "source": [
    "h2_value1= H2(s56_02,s66_02,7)\n",
    "h2_value1"
   ]
  },
  {
   "cell_type": "code",
   "execution_count": 53,
   "metadata": {},
   "outputs": [
    {
     "data": {
      "text/plain": [
       "[0.25181297501589195, 0.30767201530070154]"
      ]
     },
     "execution_count": 53,
     "metadata": {},
     "output_type": "execute_result"
    }
   ],
   "source": [
    "h2_vv1 = H2(record[56,0:2000],record[66,0:2000],7)\n",
    "h2_vv1"
   ]
  },
  {
   "cell_type": "code",
   "execution_count": 55,
   "metadata": {},
   "outputs": [
    {
     "data": {
      "text/plain": [
       "(-1.8408172763884068e-12,\n",
       " -6.09361450187862e-14,\n",
       " 8490.0924427863,\n",
       " -659.2580769207293)"
      ]
     },
     "execution_count": 55,
     "metadata": {},
     "output_type": "execute_result"
    }
   ],
   "source": [
    "np.mean(s56_02),np.mean(s66_02),np.mean(record[56,0:2000]),np.mean(record[66,0:2000])"
   ]
  },
  {
   "cell_type": "code",
   "execution_count": 194,
   "metadata": {},
   "outputs": [],
   "source": [
    "signals1 = np.array([record[56],record[66]])\n",
    "signals2 = np.array([record[46],record[56]])\n",
    "signals3 = np.array([record[46],record[56],record[66]])"
   ]
  },
  {
   "cell_type": "code",
   "execution_count": 21,
   "metadata": {},
   "outputs": [
    {
     "data": {
      "image/png": "[encoded data removed]",
      "text/plain": [
       "<Figure size 1152x720 with 2 Axes>"
      ]
     },
     "metadata": {
      "needs_background": "light"
     },
     "output_type": "display_data"
    }
   ],
   "source": [
    "plot_s(signal1[0],\"56\",signal1[1],\"66\",0,f.getFileDuration()//60)"
   ]
  },
  {
   "cell_type": "code",
   "execution_count": 49,
   "metadata": {},
   "outputs": [
    {
     "name": "stdout",
     "output_type": "stream",
     "text": [
      "0:00:01.742360\n"
     ]
    }
   ],
   "source": [
    "t_start = datetime.datetime.now()\n",
    "h2_value1,lag_value1 = H2_whole(signals1,0,12,1000,slideWindow=2,step=1,maxlag=0.001)\n",
    "t_end = datetime.datetime.now()\n",
    "print(t_end-t_start)"
   ]
  },
  {
   "cell_type": "code",
   "execution_count": 57,
   "metadata": {},
   "outputs": [
    {
     "name": "stdout",
     "output_type": "stream",
     "text": [
      "0:00:01.742364\n"
     ]
    }
   ],
   "source": [
    "t_start = datetime.datetime.now()\n",
    "h2_value1,lag_value1 = H2_whole(signals1,0,12,1000,slideWindow=2,step=1,maxlag=0.001)\n",
    "t_end = datetime.datetime.now()\n",
    "print(t_end-t_start)"
   ]
  },
  {
   "cell_type": "code",
   "execution_count": 58,
   "metadata": {},
   "outputs": [
    {
     "name": "stdout",
     "output_type": "stream",
     "text": [
      "1 ： [[0.         0.25181298]\n",
      " [0.30767202 0.        ]]\n",
      "2 ： [[0.         0.27207066]\n",
      " [0.28197746 0.        ]]\n",
      "3 ： [[0.        0.3942074]\n",
      " [0.417378  0.       ]]\n",
      "4 ： [[0.         0.3997203 ]\n",
      " [0.40063335 0.        ]]\n",
      "5 ： [[0.         0.61123895]\n",
      " [0.60553378 0.        ]]\n",
      "6 ： [[0.         0.67035258]\n",
      " [0.61159242 0.        ]]\n",
      "7 ： [[0.         0.30714526]\n",
      " [0.27986335 0.        ]]\n",
      "8 ： [[0.         0.35236296]\n",
      " [0.37032725 0.        ]]\n",
      "9 ： [[0.         0.56636265]\n",
      " [0.6724057  0.        ]]\n",
      "10 ： [[0.         0.52283512]\n",
      " [0.50528227 0.        ]]\n"
     ]
    }
   ],
   "source": [
    "for i,h2_i in zip(range(len(h2_value1)),h2_value1):\n",
    "    print(i+1,\"：\",h2_i)"
   ]
  },
  {
   "cell_type": "code",
   "execution_count": 29,
   "metadata": {},
   "outputs": [
    {
     "data": {
      "text/plain": [
       "[array([[0., 0.],\n",
       "        [0., 0.]]), array([[0., 0.],\n",
       "        [0., 0.]]), array([[0., 0.],\n",
       "        [0., 0.]]), array([[0., 0.],\n",
       "        [0., 0.]]), array([[0., 0.],\n",
       "        [0., 0.]]), array([[0., 0.],\n",
       "        [0., 0.]]), array([[0., 0.],\n",
       "        [0., 0.]]), array([[0., 0.],\n",
       "        [0., 0.]]), array([[0., 0.],\n",
       "        [0., 0.]]), array([[0., 0.],\n",
       "        [0., 0.]])]"
      ]
     },
     "execution_count": 29,
     "metadata": {},
     "output_type": "execute_result"
    }
   ],
   "source": [
    "lag_value1"
   ]
  },
  {
   "cell_type": "code",
   "execution_count": 40,
   "metadata": {},
   "outputs": [
    {
     "name": "stdout",
     "output_type": "stream",
     "text": [
      "0:00:01.744359\n"
     ]
    }
   ],
   "source": [
    "t_start = datetime.datetime.now()\n",
    "h2_value1,lag_value1 = H2_whole2(signals1,0,12,1000,slideWindow=2,step=1,maxlag=0.001)\n",
    "t_end = datetime.datetime.now()\n",
    "print(t_end-t_start)"
   ]
  },
  {
   "cell_type": "code",
   "execution_count": 44,
   "metadata": {},
   "outputs": [
    {
     "name": "stdout",
     "output_type": "stream",
     "text": [
      "1 ： [[0.         0.25181298]\n",
      " [0.30767202 0.        ]]\n",
      "2 ： [[0.         0.27207066]\n",
      " [0.28197746 0.        ]]\n",
      "3 ： [[0.        0.3942074]\n",
      " [0.417378  0.       ]]\n",
      "4 ： [[0.         0.3997203 ]\n",
      " [0.40063335 0.        ]]\n",
      "5 ： [[0.         0.61123895]\n",
      " [0.60553378 0.        ]]\n",
      "6 ： [[0.         0.67035258]\n",
      " [0.61159242 0.        ]]\n",
      "7 ： [[0.         0.30714526]\n",
      " [0.27986335 0.        ]]\n",
      "8 ： [[0.         0.35236296]\n",
      " [0.37032725 0.        ]]\n",
      "9 ： [[0.         0.56636265]\n",
      " [0.6724057  0.        ]]\n",
      "10 ： [[0.         0.52283512]\n",
      " [0.50528227 0.        ]]\n"
     ]
    }
   ],
   "source": [
    "for i,h2_i in zip(range(len(h2_value1)),h2_value1):\n",
    "    print(i+1,\"：\",h2_i)"
   ]
  },
  {
   "cell_type": "code",
   "execution_count": 45,
   "metadata": {},
   "outputs": [
    {
     "data": {
      "image/png": "[encoded data removed]",
      "text/plain": [
       "<Figure size 1152x720 with 2 Axes>"
      ]
     },
     "metadata": {
      "needs_background": "light"
     },
     "output_type": "display_data"
    }
   ],
   "source": [
    "plot_s(signal1[0],\"56\",signal1[1],\"66\",0,f.getFileDuration()//60)"
   ]
  },
  {
   "cell_type": "code",
   "execution_count": 48,
   "metadata": {},
   "outputs": [
    {
     "name": "stdout",
     "output_type": "stream",
     "text": [
      "0:00:00.918662\n"
     ]
    }
   ],
   "source": [
    "t_start = datetime.datetime.now()\n",
    "h2_value3,lag_value3 = H2_whole2(signals1,0,12,1000,slideWindow=2,step=1,maxlag=0.001)\n",
    "t_end = datetime.datetime.now()\n",
    "print(t_end-t_start)"
   ]
  },
  {
   "cell_type": "code",
   "execution_count": 51,
   "metadata": {},
   "outputs": [
    {
     "name": "stdout",
     "output_type": "stream",
     "text": [
      "1 ： [[0.         0.25181298]\n",
      " [0.3076957  0.        ]]\n",
      "2 ： [[0.         0.27207066]\n",
      " [0.28197746 0.        ]]\n",
      "3 ： [[0.         0.3942074 ]\n",
      " [0.41720039 0.        ]]\n",
      "4 ： [[0.         0.3997203 ]\n",
      " [0.40063335 0.        ]]\n",
      "5 ： [[0.         0.61123895]\n",
      " [0.60553378 0.        ]]\n",
      "6 ： [[0.         0.67035258]\n",
      " [0.61175702 0.        ]]\n",
      "7 ： [[0.         0.30714526]\n",
      " [0.28008357 0.        ]]\n",
      "8 ： [[0.         0.35230754]\n",
      " [0.37032725 0.        ]]\n",
      "9 ： [[0.         0.56636265]\n",
      " [0.6724057  0.        ]]\n",
      "10 ： [[0.         0.52283512]\n",
      " [0.50528227 0.        ]]\n"
     ]
    }
   ],
   "source": [
    "for i,h2_i in zip(range(len(h2_value3)),h2_value3):\n",
    "    print(i+1,\"：\",h2_i)"
   ]
  },
  {
   "cell_type": "code",
   "execution_count": 60,
   "metadata": {},
   "outputs": [
    {
     "name": "stdout",
     "output_type": "stream",
     "text": [
      "0:00:00.909666\n"
     ]
    }
   ],
   "source": [
    "t_start = datetime.datetime.now()\n",
    "h2_value4,lag_value4 = H2_whole3(signals1,0,12,1000,slideWindow=2,step=1,maxlag=0.001)\n",
    "t_end = datetime.datetime.now()\n",
    "print(t_end-t_start)"
   ]
  },
  {
   "cell_type": "code",
   "execution_count": 61,
   "metadata": {},
   "outputs": [
    {
     "name": "stdout",
     "output_type": "stream",
     "text": [
      "1 ： [[0.         0.25181298]\n",
      " [0.30767202 0.        ]]\n",
      "2 ： [[0.         0.27207066]\n",
      " [0.28197746 0.        ]]\n",
      "3 ： [[0.        0.3942074]\n",
      " [0.417378  0.       ]]\n",
      "4 ： [[0.         0.3997203 ]\n",
      " [0.40063335 0.        ]]\n",
      "5 ： [[0.         0.61123895]\n",
      " [0.60553378 0.        ]]\n",
      "6 ： [[0.         0.67035258]\n",
      " [0.61159242 0.        ]]\n",
      "7 ： [[0.         0.30714526]\n",
      " [0.27986335 0.        ]]\n",
      "8 ： [[0.         0.35236296]\n",
      " [0.37032725 0.        ]]\n",
      "9 ： [[0.         0.56636265]\n",
      " [0.6724057  0.        ]]\n",
      "10 ： [[0.         0.52283512]\n",
      " [0.50528227 0.        ]]\n"
     ]
    }
   ],
   "source": [
    "for i,h2_i in zip(range(len(h2_value4)),h2_value4):\n",
    "    print(i+1,\"：\",h2_i)"
   ]
  },
  {
   "cell_type": "code",
   "execution_count": 75,
   "metadata": {},
   "outputs": [
    {
     "name": "stdout",
     "output_type": "stream",
     "text": [
      "0:00:00.876677\n"
     ]
    }
   ],
   "source": [
    "t_start = datetime.datetime.now()\n",
    "h2_value5,lag_value5 = H2_whole3(signals1,0,12,999.412,slideWindow=2,step=1,maxlag=0.001)\n",
    "t_end = datetime.datetime.now()\n",
    "print(t_end-t_start)"
   ]
  },
  {
   "cell_type": "code",
   "execution_count": 76,
   "metadata": {},
   "outputs": [
    {
     "name": "stdout",
     "output_type": "stream",
     "text": [
      "1 ： [[0.         0.25165378]\n",
      " [0.30754645 0.        ]]\n",
      "2 ： [[0.         0.27211493]\n",
      " [0.28226205 0.        ]]\n",
      "3 ： [[0.         0.39255288]\n",
      " [0.41659807 0.        ]]\n",
      "4 ： [[0.         0.39470811]\n",
      " [0.39708656 0.        ]]\n",
      "5 ： [[0.         0.60733353]\n",
      " [0.60390269 0.        ]]\n",
      "6 ： [[0.         0.67554096]\n",
      " [0.61471434 0.        ]]\n",
      "7 ： [[0.         0.3071358 ]\n",
      " [0.27933234 0.        ]]\n",
      "8 ： [[0.         0.35051107]\n",
      " [0.36859145 0.        ]]\n",
      "9 ： [[0.         0.56545725]\n",
      " [0.66944437 0.        ]]\n",
      "10 ： [[0.         0.52036635]\n",
      " [0.50354915 0.        ]]\n"
     ]
    }
   ],
   "source": [
    "for i,h2_i in zip(range(len(h2_value5)),h2_value5):\n",
    "    print(i+1,\"：\",h2_i)"
   ]
  },
  {
   "cell_type": "code",
   "execution_count": 72,
   "metadata": {},
   "outputs": [
    {
     "name": "stdout",
     "output_type": "stream",
     "text": [
      "0:00:01.053614\n"
     ]
    }
   ],
   "source": [
    "t_start = datetime.datetime.now()\n",
    "h2_value6,lag_value6 = H2_whole2(signals1,0,12,1000,slideWindow=2,step=1,maxlag=0.001,L=8)\n",
    "t_end = datetime.datetime.now()\n",
    "print(t_end-t_start)"
   ]
  },
  {
   "cell_type": "code",
   "execution_count": 73,
   "metadata": {},
   "outputs": [
    {
     "name": "stdout",
     "output_type": "stream",
     "text": [
      "1 ： [[0.         0.25485268]\n",
      " [0.32832694 0.        ]]\n",
      "2 ： [[0.         0.27810995]\n",
      " [0.30407084 0.        ]]\n",
      "3 ： [[0.         0.39552274]\n",
      " [0.42246138 0.        ]]\n",
      "4 ： [[0.         0.39999285]\n",
      " [0.40016801 0.        ]]\n",
      "5 ： [[0.         0.61672601]\n",
      " [0.60813164 0.        ]]\n",
      "6 ： [[0.         0.66422978]\n",
      " [0.6212087  0.        ]]\n",
      "7 ： [[0.         0.31313496]\n",
      " [0.29111886 0.        ]]\n",
      "8 ： [[0.         0.35159977]\n",
      " [0.38831122 0.        ]]\n",
      "9 ： [[0.         0.57571264]\n",
      " [0.65886859 0.        ]]\n",
      "10 ： [[0.        0.5250041]\n",
      " [0.5132571 0.       ]]\n"
     ]
    }
   ],
   "source": [
    "for i,h2_i in zip(range(len(h2_value6)),h2_value6):\n",
    "    print(i+1,\"：\",h2_i)"
   ]
  },
  {
   "cell_type": "code",
   "execution_count": 52,
   "metadata": {},
   "outputs": [
    {
     "data": {
      "image/png": "[encoded data removed]",
      "text/plain": [
       "<Figure size 1152x720 with 2 Axes>"
      ]
     },
     "metadata": {
      "needs_background": "light"
     },
     "output_type": "display_data"
    }
   ],
   "source": [
    "plot_s(signal1[0],\"56\",signal1[1],\"66\",0,f.getFileDuration()//60)"
   ]
  },
  {
   "cell_type": "code",
   "execution_count": 78,
   "metadata": {},
   "outputs": [
    {
     "name": "stdout",
     "output_type": "stream",
     "text": [
      "0:03:09.731356\n"
     ]
    }
   ],
   "source": [
    "t_start = datetime.datetime.now()\n",
    "h2_value7,lag_value7 = H2_whole3(signals1,0,12,1000,slideWindow=2,step=1,maxlag=0.1)\n",
    "t_end = datetime.datetime.now()\n",
    "print(t_end-t_start)"
   ]
  },
  {
   "cell_type": "code",
   "execution_count": 90,
   "metadata": {},
   "outputs": [
    {
     "name": "stdout",
     "output_type": "stream",
     "text": [
      "991\n",
      "0:03:00.829623\n"
     ]
    }
   ],
   "source": [
    "t_start = datetime.datetime.now()\n",
    "h2_value7,lag_value7 = H2_whole3(signals1,0,12,1000,slideWindow=2,step=1,maxlag=0.1)\n",
    "t_end = datetime.datetime.now()\n",
    "print(t_end-t_start)"
   ]
  },
  {
   "cell_type": "code",
   "execution_count": 86,
   "metadata": {},
   "outputs": [
    {
     "name": "stdout",
     "output_type": "stream",
     "text": [
      "1 ： [0. 0.] [0. 0.] \n",
      " [[0.         0.25181298]\n",
      " [0.30767202 0.        ]]\n",
      "\n",
      "2 ： [  0. -99.] [99.  0.] \n",
      " [[0.         0.35118581]\n",
      " [0.47353308 0.        ]]\n",
      "\n",
      "3 ： [  0. -80.] [99.  0.] \n",
      " [[0.         0.42717206]\n",
      " [0.47014534 0.        ]]\n",
      "\n",
      "4 ： [0. 0.] [0. 0.] \n",
      " [[0.         0.3997203 ]\n",
      " [0.40063335 0.        ]]\n",
      "\n",
      "5 ： [0. 0.] [0. 0.] \n",
      " [[0.         0.61123895]\n",
      " [0.60553378 0.        ]]\n",
      "\n",
      "6 ： [0. 0.] [0. 0.] \n",
      " [[0.         0.67035258]\n",
      " [0.61159242 0.        ]]\n",
      "\n",
      "7 ： [0. 0.] [0. 0.] \n",
      " [[0.         0.30714526]\n",
      " [0.27986335 0.        ]]\n",
      "\n",
      "8 ： [0. 0.] [0. 0.] \n",
      " [[0.         0.35236296]\n",
      " [0.37032725 0.        ]]\n",
      "\n",
      "9 ： [0. 0.] [0. 0.] \n",
      " [[0.         0.56636265]\n",
      " [0.6724057  0.        ]]\n",
      "\n",
      "10 ： [0. 0.] [0. 0.] \n",
      " [[0.         0.52283512]\n",
      " [0.50528227 0.        ]]\n",
      "\n"
     ]
    }
   ],
   "source": [
    "for i,h2_i,lag_i in zip(range(len(h2_value7)),h2_value7,lag_value7):\n",
    "    print(i+1,\"：\",lag_i[0],lag_i[1],'\\n',h2_i)\n",
    "    print()"
   ]
  },
  {
   "cell_type": "code",
   "execution_count": 102,
   "metadata": {},
   "outputs": [
    {
     "name": "stdout",
     "output_type": "stream",
     "text": [
      "91\n",
      "0:00:17.150704\n"
     ]
    }
   ],
   "source": [
    "t_start = datetime.datetime.now()\n",
    "h2_value8,lag_value8 = H2_whole_modify(signals1,0,12,1000,slideWindow=2,step=1,maxlag=0.1)\n",
    "t_end = datetime.datetime.now()\n",
    "print(t_end-t_start)"
   ]
  },
  {
   "cell_type": "code",
   "execution_count": 103,
   "metadata": {},
   "outputs": [
    {
     "name": "stdout",
     "output_type": "stream",
     "text": [
      "1 ： [0. 0.] [0. 0.] \n",
      " [[0.         0.25181298]\n",
      " [0.30767202 0.        ]]\n",
      "\n",
      "2 ： [  0. -99.] [99.  0.] \n",
      " [[0.         0.35118581]\n",
      " [0.47353308 0.        ]]\n",
      "\n",
      "3 ： [  0. -99.] [99.  0.] \n",
      " [[0.         0.4188486 ]\n",
      " [0.47014534 0.        ]]\n",
      "\n",
      "4 ： [0. 0.] [0. 0.] \n",
      " [[0.         0.3997203 ]\n",
      " [0.40063335 0.        ]]\n",
      "\n",
      "5 ： [0. 0.] [0. 0.] \n",
      " [[0.         0.61123895]\n",
      " [0.60553378 0.        ]]\n",
      "\n",
      "6 ： [0. 0.] [0. 0.] \n",
      " [[0.         0.67035258]\n",
      " [0.61159242 0.        ]]\n",
      "\n",
      "7 ： [0. 0.] [0. 0.] \n",
      " [[0.         0.30714526]\n",
      " [0.27986335 0.        ]]\n",
      "\n",
      "8 ： [0. 0.] [0. 0.] \n",
      " [[0.         0.35236296]\n",
      " [0.37032725 0.        ]]\n",
      "\n",
      "9 ： [0. 0.] [0. 0.] \n",
      " [[0.         0.56636265]\n",
      " [0.6724057  0.        ]]\n",
      "\n",
      "10 ： [0. 0.] [0. 0.] \n",
      " [[0.         0.52283512]\n",
      " [0.50528227 0.        ]]\n",
      "\n"
     ]
    }
   ],
   "source": [
    "for i,h2_i,lag_i in zip(range(len(h2_value8)),h2_value8,lag_value8):\n",
    "    print(i+1,\"：\",lag_i[0],lag_i[1],'\\n',h2_i)\n",
    "    print()"
   ]
  },
  {
   "cell_type": "code",
   "execution_count": 109,
   "metadata": {},
   "outputs": [
    {
     "name": "stdout",
     "output_type": "stream",
     "text": [
      "190\n",
      "0:00:16.637892\n"
     ]
    }
   ],
   "source": [
    "t_start = datetime.datetime.now()\n",
    "h2_value8,lag_value8 = H2_whole_modify(signals1,0,12,1000,slideWindow=2,step=1,maxlag=0.1)\n",
    "t_end = datetime.datetime.now()\n",
    "print(t_end-t_start)"
   ]
  },
  {
   "cell_type": "code",
   "execution_count": 110,
   "metadata": {},
   "outputs": [
    {
     "name": "stdout",
     "output_type": "stream",
     "text": [
      "1 ： [0. 0.] [0. 0.] \n",
      " [[0.         0.25181298]\n",
      " [0.30767202 0.        ]]\n",
      "\n",
      "2 ： [  0. -99.] [99.  0.] \n",
      " [[0.         0.35118581]\n",
      " [0.47353308 0.        ]]\n",
      "\n",
      "3 ： [  0. -99.] [99.  0.] \n",
      " [[0.         0.4188486 ]\n",
      " [0.47014534 0.        ]]\n",
      "\n",
      "4 ： [0. 0.] [0. 0.] \n",
      " [[0.         0.3997203 ]\n",
      " [0.40063335 0.        ]]\n",
      "\n",
      "5 ： [0. 0.] [0. 0.] \n",
      " [[0.         0.61123895]\n",
      " [0.60553378 0.        ]]\n",
      "\n",
      "6 ： [0. 0.] [0. 0.] \n",
      " [[0.         0.67035258]\n",
      " [0.61159242 0.        ]]\n",
      "\n",
      "7 ： [0. 0.] [0. 0.] \n",
      " [[0.         0.30714526]\n",
      " [0.27986335 0.        ]]\n",
      "\n",
      "8 ： [0. 0.] [0. 0.] \n",
      " [[0.         0.35236296]\n",
      " [0.37032725 0.        ]]\n",
      "\n",
      "9 ： [0. 0.] [0. 0.] \n",
      " [[0.         0.56636265]\n",
      " [0.6724057  0.        ]]\n",
      "\n",
      "10 ： [0. 0.] [0. 0.] \n",
      " [[0.         0.52283512]\n",
      " [0.50528227 0.        ]]\n",
      "\n"
     ]
    }
   ],
   "source": [
    "for i,h2_i,lag_i in zip(range(len(h2_value8)),h2_value8,lag_value8):\n",
    "    print(i+1,\"：\",lag_i[0],lag_i[1],'\\n',h2_i)\n",
    "    print()"
   ]
  },
  {
   "cell_type": "code",
   "execution_count": 117,
   "metadata": {},
   "outputs": [
    {
     "name": "stdout",
     "output_type": "stream",
     "text": [
      "50\n",
      "0:00:04.791240\n"
     ]
    }
   ],
   "source": [
    "t_start = datetime.datetime.now()\n",
    "h2_value9,lag_value9 = H2_whole_dichotomy(signals1,0,12,1000,slideWindow=2,step=1,maxlag=0.1)\n",
    "t_end = datetime.datetime.now()\n",
    "print(t_end-t_start)"
   ]
  },
  {
   "cell_type": "code",
   "execution_count": 114,
   "metadata": {},
   "outputs": [],
   "source": [
    "def print_h2_lag(h2_value,lag_value):\n",
    "    for i,h2_i,lag_i in zip(range(len(h2_value)),h2_value,lag_value):\n",
    "        print(i+1,\"：\",lag_i[0],lag_i[1],'\\n',h2_i)\n",
    "        print()"
   ]
  },
  {
   "cell_type": "code",
   "execution_count": 118,
   "metadata": {},
   "outputs": [
    {
     "name": "stdout",
     "output_type": "stream",
     "text": [
      "1 ： [0. 0.] [0. 0.] \n",
      " [[0.         0.25181298]\n",
      " [0.30767202 0.        ]]\n",
      "\n",
      "2 ： [  0. -99.] [99.  0.] \n",
      " [[0.         0.35118581]\n",
      " [0.47353308 0.        ]]\n",
      "\n",
      "3 ： [  0. -99.] [99.  0.] \n",
      " [[0.         0.4188486 ]\n",
      " [0.47014534 0.        ]]\n",
      "\n",
      "4 ： [0. 0.] [0. 0.] \n",
      " [[0.         0.3997203 ]\n",
      " [0.40063335 0.        ]]\n",
      "\n",
      "5 ： [0. 0.] [0. 0.] \n",
      " [[0.         0.61123895]\n",
      " [0.60553378 0.        ]]\n",
      "\n",
      "6 ： [0. 0.] [0. 0.] \n",
      " [[0.         0.67035258]\n",
      " [0.61159242 0.        ]]\n",
      "\n",
      "7 ： [0. 0.] [0. 0.] \n",
      " [[0.         0.30714526]\n",
      " [0.27986335 0.        ]]\n",
      "\n",
      "8 ： [0. 0.] [0. 0.] \n",
      " [[0.         0.35236296]\n",
      " [0.37032725 0.        ]]\n",
      "\n",
      "9 ： [0. 0.] [0. 0.] \n",
      " [[0.         0.56636265]\n",
      " [0.6724057  0.        ]]\n",
      "\n",
      "10 ： [0. 0.] [0. 0.] \n",
      " [[0.         0.52283512]\n",
      " [0.50528227 0.        ]]\n",
      "\n"
     ]
    }
   ],
   "source": [
    "print_h2_lag(h2_value9,lag_value9)"
   ]
  },
  {
   "cell_type": "code",
   "execution_count": 129,
   "metadata": {},
   "outputs": [
    {
     "name": "stdout",
     "output_type": "stream",
     "text": [
      "991\n",
      "0:02:53.678247\n"
     ]
    }
   ],
   "source": [
    "t_start = datetime.datetime.now()\n",
    "h2_value11,lag_value11 = H2_whole3(signals2,0,12,1000,slideWindow=2,step=1,maxlag=0.1)\n",
    "t_end = datetime.datetime.now()\n",
    "print(t_end-t_start)"
   ]
  },
  {
   "cell_type": "code",
   "execution_count": 131,
   "metadata": {},
   "outputs": [
    {
     "name": "stdout",
     "output_type": "stream",
     "text": [
      "1 ： [ 0. 90.] [-90.   0.] \n",
      " [[0.         0.2223064 ]\n",
      " [0.16583417 0.        ]]\n",
      "\n",
      "2 ： [  0. -50.] [30.  0.] \n",
      " [[0.         0.38768179]\n",
      " [0.37726284 0.        ]]\n",
      "\n",
      "3 ： [  0. -90.] [-60.   0.] \n",
      " [[0.         0.31113644]\n",
      " [0.31459241 0.        ]]\n",
      "\n",
      "4 ： [ 0. 80.] [-80.   0.] \n",
      " [[0.         0.16936331]\n",
      " [0.2015316  0.        ]]\n",
      "\n",
      "5 ： [  0. -20.] [90.  0.] \n",
      " [[0.         0.17348772]\n",
      " [0.0403857  0.        ]]\n",
      "\n",
      "6 ： [ 0. 40.] [90.  0.] \n",
      " [[0.         0.22544529]\n",
      " [0.11393467 0.        ]]\n",
      "\n",
      "7 ： [ 0. 99.] [-16.   0.] \n",
      " [[0.         0.10699786]\n",
      " [0.09874465 0.        ]]\n",
      "\n",
      "8 ： [ 0. 40.] [-40.   0.] \n",
      " [[0.         0.11029619]\n",
      " [0.17304419 0.        ]]\n",
      "\n",
      "9 ： [  0. -20.] [20.  0.] \n",
      " [[0.         0.32615386]\n",
      " [0.31589242 0.        ]]\n",
      "\n",
      "10 ： [ 0. 20.] [-60.   0.] \n",
      " [[0.         0.40623299]\n",
      " [0.42458273 0.        ]]\n",
      "\n"
     ]
    }
   ],
   "source": [
    "print_h2_lag(h2_value11,lag_value11)"
   ]
  },
  {
   "cell_type": "code",
   "execution_count": 146,
   "metadata": {},
   "outputs": [
    {
     "name": "stdout",
     "output_type": "stream",
     "text": [
      "1\n",
      "1 50 99 62 74 86\n",
      "2 74 99 80 86 92\n",
      "2 86 99 89 92 95\n",
      "0 86 92 87 89 90\n",
      "2 89 92 89 90 91\n",
      "{0: 0.018008552925425914, 50: 0.1338838390473699, 99: 0.1370307370581786, 74: 0.1612751027261662, 62: 0.09654957319456459, 86: 0.18775058249156307, 80: 0.13321718974936492, 92: 0.19990003497403586, 89: 0.20347041473630478, 95: 0.1726146474805429, 87: 0.18972342371063522, 90: 0.22230639619074632}\n",
      "-1\n",
      "1 25 74 37 50 62\n",
      "1 37 62 43 50 56\n",
      "1 43 56 46 50 53\n",
      "1 46 53 48 50 51\n",
      "1 48 51 49 50 50\n",
      "{0: 0.3223950180981757, 50: 0.38768178953508015, 99: 0.2835658857535147, 25: 0.3556810013287566, 74: 0.3352632465860901, 37: 0.36265302711711866, 62: 0.3468951477987675, 43: 0.3736397311819337, 56: 0.35084204304208333, 46: 0.3834925379555164, 53: 0.3671695080766666, 48: 0.3819160291803816, 51: 0.3752428807557928}\n",
      "-1\n",
      "2 50 99 62 74 86\n",
      "2 74 99 80 86 92\n",
      "2 86 99 89 92 95\n",
      "0 86 92 87 89 90\n",
      "2 89 92 89 90 91\n",
      "{0: 0.17202960190735284, 50: 0.28527840860307496, 99: 0.27636040179993693, 25: 0.23010799770651091, 74: 0.29017722578244287, 62: 0.269343003032799, 86: 0.29779991316941046, 80: 0.26760949651846777, 92: 0.2978411515715623, 89: 0.30162977866190177, 95: 0.2877845516556402, 87: 0.2972513479465765, 90: 0.31113644129207263}\n",
      "-1\n",
      "2 74 99 74 86 99\n",
      "2 86 99 86 92 99\n",
      "2 92 99 92 95 99\n",
      "2 95 99 95 97 99\n",
      "2 97 99 97 98 99\n",
      "{0: 0.09825392273928801, 50: 0.08253365850691474, 99: 0.16604386897074486, 74: 0.11200233913789281, 86: 0.14455619287835952, 92: 0.16191520654188118, 95: 0.16237040769810707, 97: 0.16352780959628999}\n",
      "1\n",
      "0 0 25 0 12 25\n",
      "0 0 12 0 6 12\n",
      "0 0 6 0 3 6\n",
      "0 0 3 0 1 3\n",
      "0 0 1 0 0 1\n",
      "{0: 0.1518874823980788, 50: 0.10616849748165791, 99: 0.06232692341948787, 25: 0.09839504190883652, 12: 0.12462039839300554, 6: 0.1289678103277514, 3: 0.14052278861852985, 1: 0.14243516214907015}\n",
      "1\n",
      "1 25 74 37 50 62\n",
      "0 25 50 31 37 43\n",
      "2 37 50 40 43 46\n",
      "0 37 43 38 40 41\n",
      "1 38 41 39 40 40\n",
      "{0: 0.20296092029682244, 50: 0.21261832039064155, 99: 0.18642570542174908, 25: 0.19773926034161715, 74: 0.20847749185317577, 37: 0.21265271776096195, 62: 0.20961417076100008, 31: 0.19968621453669544, 43: 0.21783933226328323, 40: 0.2254452930503944, 46: 0.21281201432798547, 38: 0.21338189133674113, 41: 0.2186958783164581}\n",
      "1\n",
      "2 74 99 74 86 99\n",
      "2 86 99 86 92 99\n",
      "2 92 99 92 95 99\n",
      "2 95 99 95 97 99\n",
      "2 97 99 97 98 99\n",
      "{0: 0.06731182438698469, 50: 0.05491202336063816, 99: 0.10699786331382177, 74: 0.07083208874344415, 86: 0.08348758648004506, 92: 0.09324505779078807, 95: 0.09911963631611198, 97: 0.10309631905673122}\n",
      "1\n",
      "0 0 25 0 12 25\n",
      "0 0 12 0 6 12\n",
      "0 0 6 0 3 6\n",
      "0 0 3 0 1 3\n",
      "0 0 1 0 0 1\n",
      "{0: 0.09888960804605107, 50: 0.058385051241438335, 99: 0.0754926224543393, 25: 0.07681539685647953, 12: 0.06561656036478403, 6: 0.0714208826161058, 3: 0.08619981046284175, 1: 0.08811484466694464}\n",
      "-1\n",
      "0 0 25 0 12 25\n",
      "0 0 12 0 6 12\n",
      "0 0 6 0 3 6\n",
      "0 0 3 0 1 3\n",
      "0 0 1 0 0 1\n",
      "{0: 0.32256902947280475, 50: 0.26912493571692253, 99: 0.2435792104525878, 25: 0.2951666078413794, 12: 0.2925047125439386, 6: 0.28641334292492593, 3: 0.3033825677721441, 1: 0.3104152162980718}\n",
      "1\n",
      "0 0 25 0 12 25\n",
      "0 0 12 0 6 12\n",
      "0 0 6 0 3 6\n",
      "0 0 3 0 1 3\n",
      "0 0 1 0 0 1\n",
      "{0: 0.3988290370053402, 50: 0.3343044901636927, 99: 0.3323160698695623, 25: 0.38045330444679437, 12: 0.3674252144132736, 6: 0.37483149715572794, 3: 0.38788444022898283, 1: 0.385720850773806}\n",
      "0:00:08.217983\n"
     ]
    }
   ],
   "source": [
    "t_start = datetime.datetime.now()\n",
    "h2_value10,lag_value10 = H2_whole_dichotomy(signals2,0,12,1000,slideWindow=2,step=1,maxlag=0.1)\n",
    "t_end = datetime.datetime.now()\n",
    "print(t_end-t_start)"
   ]
  },
  {
   "cell_type": "code",
   "execution_count": 147,
   "metadata": {},
   "outputs": [
    {
     "name": "stdout",
     "output_type": "stream",
     "text": [
      "1 ： [ 0. 90.] [0. 0.] \n",
      " [[0.         0.2223064 ]\n",
      " [0.02687638 0.        ]]\n",
      "\n",
      "2 ： [  0. -50.] [0. 0.] \n",
      " [[0.         0.38768179]\n",
      " [0.3145537  0.        ]]\n",
      "\n",
      "3 ： [  0. -90.] [0. 0.] \n",
      " [[0.         0.31113644]\n",
      " [0.21856272 0.        ]]\n",
      "\n",
      "4 ： [  0. -99.] [0. 0.] \n",
      " [[0.         0.16604387]\n",
      " [0.09629511 0.        ]]\n",
      "\n",
      "5 ： [0. 0.] [0. 0.] \n",
      " [[0.         0.15188748]\n",
      " [0.00978967 0.        ]]\n",
      "\n",
      "6 ： [ 0. 40.] [0. 0.] \n",
      " [[0.         0.22544529]\n",
      " [0.08506181 0.        ]]\n",
      "\n",
      "7 ： [ 0. 99.] [0. 0.] \n",
      " [[0.         0.10699786]\n",
      " [0.09029649 0.        ]]\n",
      "\n",
      "8 ： [0. 0.] [0. 0.] \n",
      " [[0.         0.09888961]\n",
      " [0.157629   0.        ]]\n",
      "\n",
      "9 ： [0. 0.] [0. 0.] \n",
      " [[0.         0.32256903]\n",
      " [0.29596994 0.        ]]\n",
      "\n",
      "10 ： [0. 0.] [0. 0.] \n",
      " [[0.         0.39882904]\n",
      " [0.40891394 0.        ]]\n",
      "\n"
     ]
    }
   ],
   "source": [
    "print_h2_lag(h2_value10,lag_value10)"
   ]
  },
  {
   "cell_type": "code",
   "execution_count": 148,
   "metadata": {},
   "outputs": [
    {
     "name": "stdout",
     "output_type": "stream",
     "text": [
      "190\n",
      "0:00:17.824458\n"
     ]
    }
   ],
   "source": [
    "t_start = datetime.datetime.now()\n",
    "h2_value12,lag_value12 = H2_whole_modify(signals2,0,12,1000,slideWindow=2,step=1,maxlag=0.1)\n",
    "t_end = datetime.datetime.now()\n",
    "print(t_end-t_start)"
   ]
  },
  {
   "cell_type": "code",
   "execution_count": 150,
   "metadata": {},
   "outputs": [
    {
     "name": "stdout",
     "output_type": "stream",
     "text": [
      "1 ： [ 0. 88.] [-88.   0.] \n",
      " [[0.         0.19809233]\n",
      " [0.14919415 0.        ]]\n",
      "\n",
      "2 ： [  0. -44.] [33.  0.] \n",
      " [[0.         0.37442203]\n",
      " [0.36983397 0.        ]]\n",
      "\n",
      "3 ： [  0. -88.] [-55.   0.] \n",
      " [[0.         0.29979677]\n",
      " [0.30058391 0.        ]]\n",
      "\n",
      "4 ： [  0. -99.] [-99.   0.] \n",
      " [[0.         0.16604387]\n",
      " [0.19338299 0.        ]]\n",
      "\n",
      "5 ： [  0. -22.] [88.  0.] \n",
      " [[0.         0.15920103]\n",
      " [0.03090098 0.        ]]\n",
      "\n",
      "6 ： [ 0. 55.] [88.  0.] \n",
      " [[0.         0.21788368]\n",
      " [0.10383013 0.        ]]\n",
      "\n",
      "7 ： [ 0. 99.] [-11.   0.] \n",
      " [[0.         0.10699786]\n",
      " [0.09605023 0.        ]]\n",
      "\n",
      "8 ： [0. 0.] [-44.   0.] \n",
      " [[0.         0.09888961]\n",
      " [0.16066993 0.        ]]\n",
      "\n",
      "9 ： [0. 0.] [22.  0.] \n",
      " [[0.         0.32256903]\n",
      " [0.29958638 0.        ]]\n",
      "\n",
      "10 ： [0. 0.] [0. 0.] \n",
      " [[0.         0.39882904]\n",
      " [0.40891394 0.        ]]\n",
      "\n"
     ]
    }
   ],
   "source": [
    "print_h2_lag(h2_value12,lag_value12)"
   ]
  },
  {
   "cell_type": "code",
   "execution_count": 171,
   "metadata": {},
   "outputs": [
    {
     "name": "stdout",
     "output_type": "stream",
     "text": [
      "1 6 79 59 99 69 79 89\n",
      "2 79 99 84 89 94\n",
      "1 84 94 86 89 91\n",
      "2 89 94 90 91 92\n",
      "0 89 91 89 90 90\n",
      "{79: 0.1408498632423716, 69: 0.15452325632054442, 89: 0.20347041473630478, 84: 0.16150511962706848, 94: 0.1882194797360469, 86: 0.18775058249156307, 91: 0.20405940494045172, 90: 0.22230639619074632, 92: 0.19990003497403586}\n",
      "-1 3 40 20 59 30 40 49\n",
      "2 40 59 44 49 54\n",
      "1 44 54 46 49 51\n",
      "0 44 49 45 46 47\n",
      "1 45 47 45 46 46\n",
      "{40: 0.3586086277640691, 30: 0.3772029879989022, 49: 0.38143911423838395, 44: 0.3744220314318353, 54: 0.3642797612250511, 46: 0.3834925379555164, 51: 0.3752428807557928, 45: 0.37905320086758876, 47: 0.38272806011824745}\n",
      "-1 9 99 59 99 69 89 99\n",
      "1 69 99 79 89 94\n",
      "1 79 94 84 89 91\n",
      "1 84 91 86 89 90\n",
      "2 89 91 89 90 90\n",
      "{79: 0.27589098826750935, 99: 0.27636040179993693, 69: 0.29365215778968434, 89: 0.30162977866190177, 94: 0.29463770718368676, 84: 0.2839545590139644, 91: 0.2999855395783768, 86: 0.29779991316941046, 90: 0.31113644129207263}\n",
      "-1 9 99 59 99 69 89 99\n",
      "2 89 99 89 94 99\n",
      "2 94 99 94 96 99\n",
      "2 96 99 96 97 99\n",
      "2 97 99 97 98 99\n",
      "2 98 99 98 98 99\n",
      "{79: 0.11870953185525679, 99: 0.16604386897074486, 69: 0.10617340520041385, 89: 0.15581717244509707, 94: 0.1648190963394991, 96: 0.16146913350374525, 97: 0.16352780959628999, 98: 0.1639296695798329}\n",
      "-1 1 20 0 40 10 20 30\n",
      "1 10 30 15 20 25\n",
      "1 15 25 17 20 22\n",
      "1 17 22 18 20 21\n",
      "1 18 21 19 20 20\n",
      "{20: 0.17348771571218813, 10: 0.14721739429384229, 30: 0.13026849213657832, 15: 0.15521055581675525, 25: 0.14816421197464025, 17: 0.1614055516788938, 22: 0.15920102927209057, 18: 0.1613427173937465, 21: 0.16238865646993605}\n",
      "1 2 40 20 59 30 40 49\n",
      "1 30 49 35 40 44\n",
      "1 35 44 37 40 42\n",
      "1 37 42 38 40 41\n",
      "1 38 41 39 40 40\n",
      "{40: 0.2254452930503944, 30: 0.19540092169068302, 49: 0.21339615538730028, 35: 0.20739739280614777, 44: 0.2167045130213785, 37: 0.21265271776096195, 42: 0.21716987515036068, 38: 0.21338189133674113, 41: 0.2186958783164581}\n",
      "1 8 99 59 99 69 89 99\n",
      "2 89 99 89 94 99\n",
      "2 94 99 94 96 99\n",
      "2 96 99 96 97 99\n",
      "2 97 99 97 98 99\n",
      "2 98 99 98 98 99\n",
      "{79: 0.07772811252917755, 99: 0.10699786331382177, 69: 0.06912604929652555, 89: 0.08876852309889771, 94: 0.09782465473375179, 96: 0.10117372987772699, 97: 0.10309631905673122, 98: 0.10604665436019522}\n",
      "1 2 40 20 59 30 40 49\n",
      "1 30 49 35 40 44\n",
      "1 35 44 37 40 42\n",
      "1 37 42 38 40 41\n",
      "1 38 41 39 40 40\n",
      "{40: 0.11029619488259301, 30: 0.057666051364476445, 49: 0.0652019068006221, 35: 0.07787366563346232, 44: 0.09001783835519261, 37: 0.08820752827304668, 42: 0.09394493055977149, 38: 0.0908968705381118, 41: 0.09793618840612606}\n",
      "-1 1 20 0 40 10 20 30\n",
      "1 10 30 15 20 25\n",
      "1 15 25 17 20 22\n",
      "1 17 22 18 20 21\n",
      "1 18 21 19 20 20\n",
      "{20: 0.32615386122989853, 10: 0.27535736807722655, 30: 0.2748537171275103, 15: 0.30561634166105134, 25: 0.2951666078413794, 17: 0.3159481735967594, 22: 0.3079110443507035, 18: 0.3141211338547125, 21: 0.31378034142736566}\n",
      "1 0 20 0 40 10 20 30\n",
      "1 10 30 15 20 25\n",
      "1 15 25 17 20 22\n",
      "1 17 22 18 20 21\n",
      "1 18 21 19 20 20\n",
      "{20: 0.4062329934003519, 10: 0.35217110973158094, 30: 0.34791505058605754, 15: 0.37470630515876635, 25: 0.38045330444679437, 17: 0.3862990975050159, 22: 0.3892654251524704, 18: 0.38572873098059324, 21: 0.39234697504474025}\n",
      "0:00:13.917891\n"
     ]
    }
   ],
   "source": [
    "t_start = datetime.datetime.now()\n",
    "h2_value13,lag_value13 = H2_whole_dichotomy2(signals2,0,12,1000,slideWindow=2,step=1,maxlag=0.1)\n",
    "t_end = datetime.datetime.now()\n",
    "print(t_end-t_start)"
   ]
  },
  {
   "cell_type": "code",
   "execution_count": 172,
   "metadata": {},
   "outputs": [
    {
     "name": "stdout",
     "output_type": "stream",
     "text": [
      "1 ： [ 0. 90.] [0. 0.] \n",
      " [[0.         0.2223064 ]\n",
      " [0.02687638 0.        ]]\n",
      "\n",
      "2 ： [  0. -46.] [0. 0.] \n",
      " [[0.         0.38349254]\n",
      " [0.3145537  0.        ]]\n",
      "\n",
      "3 ： [  0. -90.] [0. 0.] \n",
      " [[0.         0.31113644]\n",
      " [0.21856272 0.        ]]\n",
      "\n",
      "4 ： [  0. -99.] [0. 0.] \n",
      " [[0.         0.16604387]\n",
      " [0.09629511 0.        ]]\n",
      "\n",
      "5 ： [  0. -20.] [0. 0.] \n",
      " [[0.         0.17348772]\n",
      " [0.00978967 0.        ]]\n",
      "\n",
      "6 ： [ 0. 40.] [0. 0.] \n",
      " [[0.         0.22544529]\n",
      " [0.08506181 0.        ]]\n",
      "\n",
      "7 ： [ 0. 99.] [0. 0.] \n",
      " [[0.         0.10699786]\n",
      " [0.09029649 0.        ]]\n",
      "\n",
      "8 ： [ 0. 40.] [0. 0.] \n",
      " [[0.         0.11029619]\n",
      " [0.157629   0.        ]]\n",
      "\n",
      "9 ： [  0. -20.] [0. 0.] \n",
      " [[0.         0.32615386]\n",
      " [0.29596994 0.        ]]\n",
      "\n",
      "10 ： [ 0. 20.] [0. 0.] \n",
      " [[0.         0.40623299]\n",
      " [0.40891394 0.        ]]\n",
      "\n"
     ]
    }
   ],
   "source": [
    "print_h2_lag(h2_value13,lag_value13)"
   ]
  },
  {
   "cell_type": "code",
   "execution_count": 174,
   "metadata": {},
   "outputs": [
    {
     "name": "stdout",
     "output_type": "stream",
     "text": [
      "0:00:18.328273\n"
     ]
    }
   ],
   "source": [
    "t_start = datetime.datetime.now()\n",
    "h2_value14,lag_value14 = H2_whole_dichotomy2(signals2,0,12,1000,slideWindow=2,step=1,maxlag=0.1)\n",
    "t_end = datetime.datetime.now()\n",
    "print(t_end-t_start)"
   ]
  },
  {
   "cell_type": "code",
   "execution_count": 175,
   "metadata": {},
   "outputs": [
    {
     "name": "stdout",
     "output_type": "stream",
     "text": [
      "1 ： [ 0. 90.] [-90.   0.] \n",
      " [[0.         0.2223064 ]\n",
      " [0.16583417 0.        ]]\n",
      "\n",
      "2 ： [  0. -46.] [30.  0.] \n",
      " [[0.         0.38349254]\n",
      " [0.37726284 0.        ]]\n",
      "\n",
      "3 ： [  0. -90.] [-60.   0.] \n",
      " [[0.         0.31113644]\n",
      " [0.31459241 0.        ]]\n",
      "\n",
      "4 ： [  0. -99.] [-99.   0.] \n",
      " [[0.         0.16604387]\n",
      " [0.19338299 0.        ]]\n",
      "\n",
      "5 ： [  0. -20.] [-70.   0.] \n",
      " [[0.         0.17348772]\n",
      " [0.03888442 0.        ]]\n",
      "\n",
      "6 ： [ 0. 40.] [90.  0.] \n",
      " [[0.         0.22544529]\n",
      " [0.11393467 0.        ]]\n",
      "\n",
      "7 ： [ 0. 99.] [-16.   0.] \n",
      " [[0.         0.10699786]\n",
      " [0.09874465 0.        ]]\n",
      "\n",
      "8 ： [ 0. 40.] [-40.   0.] \n",
      " [[0.         0.11029619]\n",
      " [0.17304419 0.        ]]\n",
      "\n",
      "9 ： [  0. -20.] [20.  0.] \n",
      " [[0.         0.32615386]\n",
      " [0.31589242 0.        ]]\n",
      "\n",
      "10 ： [ 0. 20.] [-40.   0.] \n",
      " [[0.         0.40623299]\n",
      " [0.41174953 0.        ]]\n",
      "\n"
     ]
    }
   ],
   "source": [
    "print_h2_lag(h2_value14,lag_value14)"
   ]
  },
  {
   "cell_type": "code",
   "execution_count": 177,
   "metadata": {},
   "outputs": [
    {
     "name": "stdout",
     "output_type": "stream",
     "text": [
      "0:00:24.506003\n"
     ]
    }
   ],
   "source": [
    "t_start = datetime.datetime.now()\n",
    "h2_value15,lag_value15 = H2_whole_dichotomy2(signals2,0,12,1000,slideWindow=2,step=1,maxlag=0.2)\n",
    "t_end = datetime.datetime.now()\n",
    "print(t_end-t_start)"
   ]
  },
  {
   "cell_type": "code",
   "execution_count": 178,
   "metadata": {},
   "outputs": [
    {
     "name": "stdout",
     "output_type": "stream",
     "text": [
      "1 ： [   0. -190.] [190.   0.] \n",
      " [[0.         0.31846176]\n",
      " [0.32894588 0.        ]]\n",
      "\n",
      "2 ： [  0. -46.] [30.  0.] \n",
      " [[0.         0.38349254]\n",
      " [0.37726284 0.        ]]\n",
      "\n",
      "3 ： [  0. -90.] [130.   0.] \n",
      " [[0.         0.31113644]\n",
      " [0.34924766 0.        ]]\n",
      "\n",
      "4 ： [   0. -110.] [-100.    0.] \n",
      " [[0.         0.19827187]\n",
      " [0.20638638 0.        ]]\n",
      "\n",
      "5 ： [  0. -20.] [190.   0.] \n",
      " [[0.         0.17348772]\n",
      " [0.14627938 0.        ]]\n",
      "\n",
      "6 ： [ 0. 60.] [108.   0.] \n",
      " [[0.         0.22265521]\n",
      " [0.11264009 0.        ]]\n",
      "\n",
      "7 ： [  0. 110.] [199.   0.] \n",
      " [[0.         0.12602595]\n",
      " [0.10688254 0.        ]]\n",
      "\n",
      "8 ： [  0. 199.] [-199.    0.] \n",
      " [[0.         0.19459792]\n",
      " [0.22592528 0.        ]]\n",
      "\n",
      "9 ： [0. 0.] [-180.    0.] \n",
      " [[0.         0.32256903]\n",
      " [0.33518212 0.        ]]\n",
      "\n",
      "10 ： [0. 0.] [0. 0.] \n",
      " [[0.         0.39882904]\n",
      " [0.40891394 0.        ]]\n",
      "\n"
     ]
    }
   ],
   "source": [
    "print_h2_lag(h2_value15,lag_value15)"
   ]
  },
  {
   "cell_type": "code",
   "execution_count": 179,
   "metadata": {},
   "outputs": [
    {
     "name": "stdout",
     "output_type": "stream",
     "text": [
      "1991\n",
      "0:05:57.144906\n"
     ]
    }
   ],
   "source": [
    "t_start = datetime.datetime.now()\n",
    "h2_value16,lag_value16 = H2_whole3(signals2,0,12,1000,slideWindow=2,step=1,maxlag=0.2)\n",
    "t_end = datetime.datetime.now()\n",
    "print(t_end-t_start)"
   ]
  },
  {
   "cell_type": "code",
   "execution_count": 180,
   "metadata": {},
   "outputs": [
    {
     "name": "stdout",
     "output_type": "stream",
     "text": [
      "1 ： [   0. -170.] [170.   0.] \n",
      " [[0.         0.32314461]\n",
      " [0.33493792 0.        ]]\n",
      "\n",
      "2 ： [  0. -50.] [30.  0.] \n",
      " [[0.         0.38768179]\n",
      " [0.37726284 0.        ]]\n",
      "\n",
      "3 ： [  0. -90.] [130.   0.] \n",
      " [[0.         0.31113644]\n",
      " [0.34924766 0.        ]]\n",
      "\n",
      "4 ： [   0. -110.] [-100.    0.] \n",
      " [[0.         0.19827187]\n",
      " [0.20638638 0.        ]]\n",
      "\n",
      "5 ： [  0. -20.] [190.   0.] \n",
      " [[0.         0.17348772]\n",
      " [0.14627938 0.        ]]\n",
      "\n",
      "6 ： [ 0. 40.] [110.   0.] \n",
      " [[0.         0.22544529]\n",
      " [0.12008137 0.        ]]\n",
      "\n",
      "7 ： [  0. 110.] [199.   0.] \n",
      " [[0.         0.12602595]\n",
      " [0.10688254 0.        ]]\n",
      "\n",
      "8 ： [  0. 199.] [-199.    0.] \n",
      " [[0.         0.19459792]\n",
      " [0.22592528 0.        ]]\n",
      "\n",
      "9 ： [  0. -20.] [-180.    0.] \n",
      " [[0.         0.32615386]\n",
      " [0.33518212 0.        ]]\n",
      "\n",
      "10 ： [ 0. 20.] [-60.   0.] \n",
      " [[0.         0.40623299]\n",
      " [0.42458273 0.        ]]\n",
      "\n"
     ]
    }
   ],
   "source": [
    "print_h2_lag(h2_value16,lag_value16)"
   ]
  },
  {
   "cell_type": "code",
   "execution_count": 192,
   "metadata": {},
   "outputs": [
    {
     "name": "stdout",
     "output_type": "stream",
     "text": [
      "0:00:23.887231\n"
     ]
    }
   ],
   "source": [
    "t_start = datetime.datetime.now()\n",
    "h2_value17,lag_value17 = H2_whole_dichotomy2(signals2,0,12,1000,slideWindow=2,step=1,maxlag=0.2)\n",
    "t_end = datetime.datetime.now()\n",
    "print(t_end-t_start)"
   ]
  },
  {
   "cell_type": "code",
   "execution_count": 193,
   "metadata": {},
   "outputs": [
    {
     "name": "stdout",
     "output_type": "stream",
     "text": [
      "1 ： [   0. -190.] [190.   0.] \n",
      " [[0.         0.31846365]\n",
      " [0.32894879 0.        ]]\n",
      "\n",
      "2 ： [  0. -46.] [30.  0.] \n",
      " [[0.         0.38352   ]\n",
      " [0.37726124 0.        ]]\n",
      "\n",
      "3 ： [  0. -90.] [130.   0.] \n",
      " [[0.         0.3111908 ]\n",
      " [0.34930989 0.        ]]\n",
      "\n",
      "4 ： [   0. -110.] [-100.    0.] \n",
      " [[0.         0.19811423]\n",
      " [0.2063928  0.        ]]\n",
      "\n",
      "5 ： [  0. -20.] [190.   0.] \n",
      " [[0.         0.17348006]\n",
      " [0.14632529 0.        ]]\n",
      "\n",
      "6 ： [ 0. 60.] [108.   0.] \n",
      " [[0.         0.22262534]\n",
      " [0.11265209 0.        ]]\n",
      "\n",
      "7 ： [  0. 110.] [199.   0.] \n",
      " [[0.         0.12606271]\n",
      " [0.10691637 0.        ]]\n",
      "\n",
      "8 ： [  0. 199.] [-199.    0.] \n",
      " [[0.         0.19457846]\n",
      " [0.22589168 0.        ]]\n",
      "\n",
      "9 ： [0. 0.] [-180.    0.] \n",
      " [[0.         0.32251269]\n",
      " [0.33526995 0.        ]]\n",
      "\n",
      "10 ： [0. 0.] [0. 0.] \n",
      " [[0.         0.39882362]\n",
      " [0.40902538 0.        ]]\n",
      "\n"
     ]
    }
   ],
   "source": [
    "print_h2_lag(h2_value17,lag_value17)"
   ]
  },
  {
   "cell_type": "code",
   "execution_count": 196,
   "metadata": {},
   "outputs": [
    {
     "name": "stdout",
     "output_type": "stream",
     "text": [
      "0:01:07.368277\n"
     ]
    }
   ],
   "source": [
    "t_start = datetime.datetime.now()\n",
    "h2_value3,lag_value3 = H2_whole_dichotomy2(signals3,0,12,1000,slideWindow=2,step=1,maxlag=0.2)\n",
    "t_end = datetime.datetime.now()\n",
    "print(t_end-t_start)"
   ]
  },
  {
   "cell_type": "code",
   "execution_count": 197,
   "metadata": {},
   "outputs": [
    {
     "name": "stdout",
     "output_type": "stream",
     "text": [
      "1 ： [   0. -190.  -20.] [190.   0. 150.] \n",
      " [[0.         0.31846365 0.25939455]\n",
      " [0.32894879 0.         0.33884469]\n",
      " [0.19353317 0.30760651 0.        ]]\n",
      "\n",
      "2 ： [   0.  -46. -199.] [  30.    0. -199.] \n",
      " [[0.         0.38352    0.2530617 ]\n",
      " [0.37726124 0.         0.59168956]\n",
      " [0.23374683 0.67084149 0.        ]]\n",
      "\n",
      "3 ： [   0.  -90. -166.] [ 130.    0. -199.] \n",
      " [[0.         0.3111908  0.23718602]\n",
      " [0.34930989 0.         0.58463159]\n",
      " [0.26544084 0.60215684 0.        ]]\n",
      "\n",
      "4 ： [   0. -110.   20.] [-100.    0.    0.] \n",
      " [[0.         0.19811423 0.162487  ]\n",
      " [0.2063928  0.         0.39980622]\n",
      " [0.17110855 0.40066686 0.        ]]\n",
      "\n",
      "5 ： [  0. -20. -10.] [190.   0.   0.] \n",
      " [[0.         0.17348006 0.33169454]\n",
      " [0.14632529 0.         0.6113036 ]\n",
      " [0.18691541 0.60543047 0.        ]]\n",
      "\n",
      "6 ： [ 0. 60. 90.] [108.   0.   0.] \n",
      " [[0.         0.22262534 0.37924723]\n",
      " [0.11265209 0.         0.67042045]\n",
      " [0.2943878  0.61163598 0.        ]]\n",
      "\n",
      "7 ： [  0. 110.  14.] [ 199.    0. -196.] \n",
      " [[0.         0.12606271 0.16605057]\n",
      " [0.10691637 0.         0.4525788 ]\n",
      " [0.1988893  0.4134273  0.        ]]\n",
      "\n",
      "8 ： [  0. 199.  33.] [-199.    0. -199.] \n",
      " [[0.         0.19457846 0.20868634]\n",
      " [0.22589168 0.         0.42562119]\n",
      " [0.14584811 0.41241169 0.        ]]\n",
      "\n",
      "9 ： [  0.   0. 199.] [-180.    0.    0.] \n",
      " [[0.         0.32251269 0.28513084]\n",
      " [0.33526995 0.         0.56645052]\n",
      " [0.52266279 0.67250967 0.        ]]\n",
      "\n",
      "10 ： [  0.   0. 199.] [0. 0. 0.] \n",
      " [[0.         0.39882362 0.10880444]\n",
      " [0.40902538 0.         0.5230888 ]\n",
      " [0.16673415 0.50535978 0.        ]]\n",
      "\n"
     ]
    }
   ],
   "source": [
    "print_h2_lag(h2_value3,lag_value3)"
   ]
  }
 ],
 "metadata": {
  "kernelspec": {
   "display_name": "Python 3",
   "language": "python",
   "name": "python3"
  },
  "language_info": {
   "codemirror_mode": {
    "name": "ipython",
    "version": 3
   },
   "file_extension": ".py",
   "mimetype": "text/x-python",
   "name": "python",
   "nbconvert_exporter": "python",
   "pygments_lexer": "ipython3",
   "version": "3.7.1"
  }
 },
 "nbformat": 4,
 "nbformat_minor": 2
}
