{
 "cells": [
  {
   "cell_type": "code",
   "execution_count": 180,
   "metadata": {},
   "outputs": [],
   "source": [
    "import pyedflib\n",
    "import numpy as np\n",
    "import pandas as pd\n",
    "import matplotlib.pyplot as plt\n",
    "import datetime\n",
    "import scipy.signal"
   ]
  },
  {
   "cell_type": "code",
   "execution_count": 2,
   "metadata": {},
   "outputs": [
    {
     "name": "stdout",
     "output_type": "stream",
     "text": [
      "0:00:00.002000\n"
     ]
    }
   ],
   "source": [
    "t_start = datetime.datetime.now()\n",
    "f = pyedflib.EdfReader(r\"D:\\BaiduNetdiskDownload\\sz1.edf\")\n",
    "t_end = datetime.datetime.now()\n",
    "print(t_end-t_start)"
   ]
  },
  {
   "cell_type": "code",
   "execution_count": 30,
   "metadata": {},
   "outputs": [
    {
     "name": "stdout",
     "output_type": "stream",
     "text": [
      "0:00:38.111001\n"
     ]
    }
   ],
   "source": [
    "t_start = datetime.datetime.now()\n",
    "n = f.signals_in_file\n",
    "record = np.zeros((n, f.getNSamples()[0]))\n",
    "for i in np.arange(n):\n",
    "    record[i, :] = f.readSignal(i)\n",
    "t_end = datetime.datetime.now()\n",
    "print(t_end-t_start)"
   ]
  },
  {
   "cell_type": "code",
   "execution_count": 80,
   "metadata": {},
   "outputs": [],
   "source": [
    "def h2(x,y,L=7):\n",
    "    '''\n",
    "    x,y 代表两个信号\n",
    "    L代表区间线\n",
    "    该函数返回每个区间的Q、P值\n",
    "    '''\n",
    "    t_start_all = datetime.datetime.now()\n",
    "    min_x = np.min(x)\n",
    "    max_x = np.max(x)\n",
    "    bins=np.linspace(min_x,max_x,L)\n",
    "    #print(bins)\n",
    "    sxy=pd.DataFrame({'x':x,'y':y})\n",
    "    #sxy=sxy.sort_values(by='x')\n",
    "    #sxy.index=range(len(sxy))\n",
    "    \n",
    "    sxy['bins']=pd.cut(sxy['x'],bins,labels=range(1,L),include_lowest=True)\n",
    "    Q=[]\n",
    "    P=[] # 6\n",
    "    k=[] # 5\n",
    "    f=[]\n",
    "    for i in range(L-1):\n",
    "        Q.append(sxy[sxy.bins==i+1]['y'].mean())\n",
    "        P.append((bins[i]+bins[i+1])/2) \n",
    "        if i:\n",
    "            k.append((Q[i]-Q[i-1])/(P[i]-P[i-1]))\n",
    "    t_end = datetime.datetime.now()\n",
    "    print(\"Q_P_k：\",t_end-t_start_all)\n",
    "    \n",
    "    t_start = datetime.datetime.now()\n",
    "    px=P.copy()\n",
    "    px[0]=min_x\n",
    "    px[L-2]=max_x\n",
    "    #print(px)\n",
    "    sxy['k']=pd.cut(sxy['x'],px,labels=range(0,L-2),include_lowest=True)\n",
    "    t_end = datetime.datetime.now()\n",
    "    print(\"切割：\",t_end-t_start)\n",
    "    \n",
    "    t_start = datetime.datetime.now()\n",
    "    for si in range(len(x)):\n",
    "        i = sxy.loc[si]['k']\n",
    "        fx=k[i]*(sxy.loc[si]['x']-P[i])+Q[i]\n",
    "        f.append(fx)\n",
    "    t_end = datetime.datetime.now()\n",
    "    print(\"计算f：\",t_end-t_start)\n",
    "    \n",
    "    t_start = datetime.datetime.now()\n",
    "    my=np.mean(y)\n",
    "    sst=np.sum((y-my)**2)\n",
    "    sse=np.sum((y-f)**2)\n",
    "    h2=1-sse/sst\n",
    "    t_end = datetime.datetime.now()\n",
    "    print(\"计算h2：\",t_end-t_start)\n",
    "    \n",
    "    return h2"
   ]
  },
  {
   "cell_type": "code",
   "execution_count": 158,
   "metadata": {},
   "outputs": [],
   "source": [
    "def h2_modify(x,y,L=7):\n",
    "    '''\n",
    "    x,y 代表两个信号\n",
    "    L代表区间线\n",
    "    该函数返回每个区间的Q、P值\n",
    "    '''\n",
    "    min_x = np.min(x)-0.00000001\n",
    "    max_x = np.max(x)\n",
    "    lx = len(x)\n",
    "    bins=np.linspace(min_x,max_x,L)  \n",
    "    Q=[]\n",
    "    P=[] # 6\n",
    "    k=[] # 5\n",
    "    f=[]\n",
    "    Qy=[None]*(L-1)\n",
    "    for i in range(L-1):\n",
    "        Qy[i] = []\n",
    "        \n",
    "    for xi in range(lx):\n",
    "        for li in range(L-1):\n",
    "            if bins[li] < x[xi] <=bins[li+1]:\n",
    "                Qy[li].append(y[xi])\n",
    "                break\n",
    "    \n",
    "    for i in range(L-1):\n",
    "        Q.append(np.mean(Qy[i]))\n",
    "        P.append((bins[i]+bins[i+1])/2) \n",
    "        if i:\n",
    "            k.append((Q[i]-Q[i-1])/(P[i]-P[i-1]))\n",
    "\n",
    "    px=P.copy()\n",
    "    px[0]=min_x\n",
    "    px[L-2]=max_x\n",
    "    \n",
    "    for xi in x:\n",
    "        for li in range(L-2):\n",
    "            if px[li] < xi <= px[li+1]:\n",
    "                fx=k[li]*(xi-P[li])+Q[li]\n",
    "                f.append(fx)\n",
    "                break\n",
    "  \n",
    "    #f = np.array(f) 当长度相等，可以不加\n",
    "    my=np.mean(y)\n",
    "    sst=np.sum((y-my)**2)\n",
    "    sse=np.sum((y-f)**2)\n",
    "    h2=1-sse/sst   \n",
    "    return h2"
   ]
  },
  {
   "cell_type": "code",
   "execution_count": 189,
   "metadata": {},
   "outputs": [],
   "source": [
    "def H2_filter(signals,start_time,duration,sampleFreq,slideWindow=2,step=1,maxlag=0.1,L=7,HP=0,LP=0):\n",
    "    '''\n",
    "    在H2_whole3方法的基础上增加filter功能\n",
    "    filter为长度为2的数组，接收归一化截止频率：HP，LP\n",
    "    '''\n",
    "    #time_flexity=1\n",
    "    signals_num = len(signals)\n",
    "    if signals_num < 2:\n",
    "        print(\"Please input at least 2 signals to compute h2!\")\n",
    "        return None,None\n",
    "    \n",
    "    h2_num = int((duration-slideWindow-maxlag)//step + 1)\n",
    "    if h2_num <= 0:\n",
    "        print(\"Duration is too short to compute h2!\")\n",
    "        return None,None\n",
    "    \n",
    "    if maxlag <= 0:\n",
    "        print(\"Time maxlag must be greater than zero!\")\n",
    "        \n",
    "    b = a = []\n",
    "    if HP==0 and LP>0: #低通\n",
    "        b,a = scipy.signal.butter(2,2*LP/sampleFreq,\"lowpass\")\n",
    "    elif LP==0 and HP>0: #高通\n",
    "        b,a = scipy.signal.butter(2,2*HP/sampleFreq,\"highpass\")\n",
    "    elif LP>0 and HP>0: #带通\n",
    "        b,a = scipy.signal.butter(2,[2*HP/sampleFreq,2*LP/sampleFreq],\"bandpass\")\n",
    "    \n",
    "    h2_value = []\n",
    "    lag_value = []\n",
    "    \n",
    "     # 计算每次窗口滑动时的H2（每个时间段）\n",
    "    for ti in range(h2_num):\n",
    "        start_time_window = start_time + ti*step\n",
    "        stop_time_window = start_time_window + slideWindow\n",
    "        start_samples = int(start_time_window*sampleFreq)\n",
    "        stop_samples = int(stop_time_window*sampleFreq)\n",
    "        # 对角线上的值设置为 0\n",
    "        signals_h2 = np.zeros((signals_num,signals_num))\n",
    "        signals_lag = np.zeros((signals_num,signals_num))\n",
    "        # 计算每两个信号之间的H2: (0,1)，(0,2)，...，(0,n-1)；(1,2)，(1,3)，...，(1,n-1)；...(n-2,n-1)\n",
    "        for si1 in range(signals_num-1):\n",
    "            s1 = signals[si1][start_samples:stop_samples]\n",
    "            if len(a):\n",
    "                s1 = scipy.signal.filtfilt(b,a,s1)\n",
    "            # [s1] = setSignaltoZero([signals[si1][start_samples:stop_samples]]) # 做归0处理\n",
    "            for si2 in range(si1+1,signals_num):\n",
    "                s2 = signals[si2][start_samples:stop_samples]\n",
    "                if len(a):\n",
    "                    s2 = scipy.signal.filtfilt(b,a,s2)\n",
    "                #[s2] = setSignaltoZero([signals[si2][start_samples:stop_samples]])\n",
    "                # 设置两个信号之间的H2的初始值为0\n",
    "                two_signals_h2 = np.zeros(2) \n",
    "                two_signals_lag = np.zeros(2) \n",
    "                \n",
    "                h2_00 = [h2_modify(s1,s2,L),h2_modify(s2,s1,L)]\n",
    "                #time_flexity += 1\n",
    "                two_signals_h2[0] = h2_00[0]\n",
    "                two_signals_h2[1] = h2_00[1]\n",
    "                # 考虑时间延迟\n",
    "                # 计算x到y\n",
    "                sample_maxlag = int(maxlag*sampleFreq)\n",
    "                for tagi in range(1,sample_maxlag): # x向右移动，符号为正；y向右移动，符号为负\n",
    "                    #print(start_samples,stop_samples)\n",
    "                    #time_flexity += 2\n",
    "                    s1m = signals[si1][start_samples+tagi:stop_samples+tagi]\n",
    "                    s2m = signals[si2][start_samples+tagi:stop_samples+tagi]\n",
    "                    #[s1m,s2m] = setSignaltoZero([s1m,s2m],1)  # 做归0处理\n",
    "                    \n",
    "                    h2_mn = [h2_modify(s1m,s2,L),h2_modify(s2,s1m,L)] # s1向右移  H2(s1m,s2,L)\n",
    "                    h2_nm = [h2_modify(s1,s2m,L),h2_modify(s2m,s1,L)] # s2向右移  H2(s1,s2m,L)\n",
    "                    \n",
    "                    if (h2_mn[0]>two_signals_h2[0])&(h2_mn[0]>h2_nm[0]):\n",
    "                        two_signals_h2[0] = h2_mn[0]\n",
    "                        two_signals_lag[0] = tagi\n",
    "                        \n",
    "                    elif h2_nm[0]>two_signals_h2[0]:\n",
    "                        two_signals_h2[0] = h2_nm[0]\n",
    "                        two_signals_lag[0] = -tagi\n",
    "                        \n",
    "                    if (h2_mn[1]>two_signals_h2[1])&(h2_mn[1]>h2_nm[0]):\n",
    "                        two_signals_h2[1] = h2_mn[1]\n",
    "                        two_signals_lag[1] = -tagi\n",
    "                        \n",
    "                    elif h2_nm[1]>two_signals_h2[1]:\n",
    "                        two_signals_h2[1] = h2_nm[1]\n",
    "                        two_signals_lag[1] = tagi\n",
    "                \n",
    "                signals_h2[si1,si2] = two_signals_h2[0]\n",
    "                signals_h2[si2,si1] = two_signals_h2[1]\n",
    "                signals_lag[si1,si2] = two_signals_lag[0]\n",
    "                signals_lag[si2,si1] = two_signals_lag[1]\n",
    "                \n",
    "        h2_value.append(signals_h2)\n",
    "        lag_value.append(signals_lag)\n",
    "    \n",
    "    #print(time_flexity)\n",
    "    return h2_value,lag_value    "
   ]
  },
  {
   "cell_type": "code",
   "execution_count": 176,
   "metadata": {},
   "outputs": [],
   "source": [
    "def H2_dichotomy_filter(signals,start_time,duration,sampleFreq,slideWindow=2,step=1,maxlag=0.1,L=7,HP=0,LP=0):\n",
    "    '''\n",
    "    版本6：不求平均,lag算法改进,采用二分法计算最大h2，初始采用7点采样（而不是三点）\n",
    "    signals：原始信号，numpy矩阵类型（二维矩阵）\n",
    "    slideWindows:滑动窗口\n",
    "    duration：信号的持续时间\n",
    "    HP，LP：接收归一化截止频率\n",
    "    '''\n",
    "    signals_num = len(signals)\n",
    "    if signals_num < 2:\n",
    "        print(\"Please input at least 2 signals to compute h2!\")\n",
    "        return None,None\n",
    "    \n",
    "    h2_num = int((duration-slideWindow-maxlag)//step + 1)\n",
    "    if h2_num <= 0:\n",
    "        print(\"Duration is too short to compute h2!\")\n",
    "        return None,None\n",
    "    \n",
    "    if maxlag <= 0:\n",
    "        print(\"Time maxlag must be greater than zero!\")\n",
    "    \n",
    "    b = a = []\n",
    "    if HP==0 and LP>0: #低通\n",
    "        b,a = scipy.signal.butter(2,2*LP/sampleFreq,\"lowpass\")\n",
    "    elif LP==0 and HP>0: #高通\n",
    "        b,a = scipy.signal.butter(2,2*HP/sampleFreq,\"highpass\")\n",
    "    elif LP>0 and HP>0: #带通\n",
    "        b,a = scipy.signal.butter(2,[2*HP/sampleFreq,2*LP/sampleFreq],\"bandpass\")\n",
    "    \n",
    "    h2_value = []\n",
    "    lag_value = []\n",
    "    dict_sample = dict()\n",
    "     # 计算每次窗口滑动时的H2（每个时间段）\n",
    "    for ti in range(h2_num):\n",
    "        start_time_window = start_time + ti*step\n",
    "        stop_time_window = start_time_window + slideWindow\n",
    "        start_samples = int(start_time_window*sampleFreq)\n",
    "        stop_samples = int(stop_time_window*sampleFreq)\n",
    "        # 对角线上的值设置为 0\n",
    "        signals_h2 = np.zeros((signals_num,signals_num))\n",
    "        signals_lag = np.zeros((signals_num,signals_num))\n",
    "        # 计算每两个信号之间的H2: (0,1)，(0,2)，...，(0,n-1)；(1,2)，(1,3)，...，(1,n-1)；...(n-2,n-1)\n",
    "        for si1 in range(signals_num-1):\n",
    "            s1 = signals[si1][start_samples:stop_samples]\n",
    "            if len(a):\n",
    "                s1 = scipy.signal.filtfilt(b,a,s1)\n",
    "            # [s1] = setSignaltoZero([signals[si1][start_samples:stop_samples]]) # 做归0处理\n",
    "            \n",
    "            for si2 in range(si1+1,signals_num):\n",
    "                s2 = signals[si2][start_samples:stop_samples]\n",
    "                if len(a):\n",
    "                    s2 = scipy.signal.filtfilt(b,a,s2)\n",
    "                #[s2] = setSignaltoZero([signals[si2][start_samples:stop_samples]])\n",
    "                \n",
    "                # 设置两个信号之间的H2的初始值为0\n",
    "                two_signals_h2 = np.zeros(2) \n",
    "                two_signals_lag = np.zeros(2) \n",
    "                \n",
    "                h2_00 = [h2_modify(s1,s2,L),h2_modify(s2,s1,L)]\n",
    "                \n",
    "                two_signals_h2[0] = h2_00[0]\n",
    "                two_signals_h2[1] = h2_00[1]\n",
    "                # 考虑时间延迟\n",
    "                # 计算x到y\n",
    "                \n",
    "                maxlag_points = int(maxlag*sampleFreq) # 总共样本点\n",
    "                sample_num = int(maxlag_points**0.5-maxlag_points**0.25)\n",
    "                if sample_num < 3:\n",
    "                    sample_num = 3\n",
    "                sample_points = np.percentile(range(0,maxlag_points),np.linspace(0,100,sample_num),interpolation='nearest')\n",
    "                \n",
    "                t0_h2 = []\n",
    "                t1_h2 = []\n",
    "                dict_sample.clear()\n",
    "                sign = 1 # 符号位，判断是x移动还是y移动\n",
    "                left = right = new_left = new_median = new_right = 0\n",
    "                \n",
    "                for tagi in sample_points[1:]: # x向右移动，符号为正；y向右移动，符号为负\n",
    "                    \n",
    "                    s1m = signals[si1][start_samples+tagi:stop_samples+tagi]\n",
    "                    s2m = signals[si2][start_samples+tagi:stop_samples+tagi]\n",
    "\n",
    "                    h2_mn = [h2_modify(s1m,s2,L),h2_modify(s2,s1m,L)] # s1向右移\n",
    "                    h2_nm = [h2_modify(s1,s2m,L),h2_modify(s2m,s1,L)] # s2向右移\n",
    "\n",
    "                    t0_h2.extend([h2_mn[0],h2_nm[0]])\n",
    "                    t1_h2.extend([h2_mn[1],h2_nm[1]])\n",
    "                \n",
    "                t0_h2_max = max(t0_h2)\n",
    "                t1_h2_max = max(t1_h2)\n",
    "                \n",
    "                t0_index = t0_h2.index(t0_h2_max)\n",
    "                t1_index = t1_h2.index(t1_h2_max)\n",
    "                \n",
    "                sign = (-1)**t0_index\n",
    "                if t0_h2_max>two_signals_h2[0]:\n",
    "                    two_signals_h2[0] = t0_h2_max\n",
    "                    sub0_h2 = t0_index//2 + 1\n",
    "                    two_signals_lag[0] = sign*sample_points[sub0_h2]\n",
    "                    if sub0_h2 < (sample_num - 1):\n",
    "                        left = sample_points[sub0_h2-1]\n",
    "                        right = sample_points[sub0_h2+1]\n",
    "                        new_median = sample_points[sub0_h2]\n",
    "                        new_left = (left+new_median)//2\n",
    "                        new_right = (right+new_median)//2\n",
    "                        #dict_sample[left] = t0_h2[t0_index-2]\n",
    "                        dict_sample[new_median] = t0_h2[t0_index]\n",
    "                        #dict_sample[right] = t0_h2[t0_index+2]\n",
    "                    else:\n",
    "                        left = sample_points[sub0_h2-2]\n",
    "                        new_right = right = sample_points[sub0_h2]\n",
    "                        new_median = (sample_points[sub0_h2]+sample_points[sub0_h2-1])//2\n",
    "                        new_left = (sample_points[sub0_h2-1]+sample_points[sub0_h2-2])//2\n",
    "                        dict_sample[sample_points[sub0_h2-1]] = t0_h2[t0_index-2]\n",
    "                        dict_sample[right] = t0_h2[t0_index]\n",
    "                else:\n",
    "                    right = sample_points[2]\n",
    "                    new_left = left = 0\n",
    "                    new_right = (right+sample_points[1])//2\n",
    "                    new_median = sample_points[1]//2\n",
    "                    dict_sample[sample_points[1]] = t0_h2[(1-sign)//2]\n",
    "                    dict_sample[0] = two_signals_h2[0]\n",
    "                \n",
    "                #print(sign,t0_index,sample_points[t0_index//2 + 1],left,right,new_left,new_median,new_right)\n",
    "                while (new_right-new_left) >= 2:\n",
    "                    t0_h2 = []\n",
    "                    if dict_sample.get(new_left):\n",
    "                        t0_h2.append(dict_sample[new_left])\n",
    "                    else:\n",
    "                        if sign>0: # 说明sx向右移\n",
    "                            sxx = signals[si1][start_samples+new_left:stop_samples+new_left]\n",
    "                            t0_h2.append(h2_modify(sxx,s2,L))\n",
    "                        else:\n",
    "                            syy = signals[si2][start_samples+new_left:stop_samples+new_left]\n",
    "                            t0_h2.append(h2_modify(s1,syy,L))\n",
    "                        dict_sample[new_left] = t0_h2[0]\n",
    "                            \n",
    "                    if dict_sample.get(new_median):\n",
    "                        t0_h2.append(dict_sample[new_median])\n",
    "                    else:\n",
    "                        if sign>0: # 说明sx向右移\n",
    "                            sxx = signals[si1][start_samples+new_median:stop_samples+new_median]\n",
    "                            t0_h2.append(h2_modify(sxx,s2,L))\n",
    "                        else:\n",
    "                            syy = signals[si2][start_samples+new_median:stop_samples+new_median]\n",
    "                            t0_h2.append(h2_modify(s1,syy,L))\n",
    "                        dict_sample[new_median] = t0_h2[1]\n",
    "                        \n",
    "                    if dict_sample.get(new_right):\n",
    "                        t0_h2.append(dict_sample[new_right])\n",
    "                    else:\n",
    "                        if sign>0: # 说明sx向右移\n",
    "                            sxx = signals[si1][start_samples+new_right:stop_samples+new_right]\n",
    "                            t0_h2.append(h2_modify(sxx,s2,L))\n",
    "                        else:\n",
    "                            syy = signals[si2][start_samples+new_right:stop_samples+new_right]\n",
    "                            t0_h2.append(h2_modify(s1,syy,L))\n",
    "                        dict_sample[new_right] = t0_h2[2]\n",
    "                            \n",
    "                    two_signals_h2[0] = max(t0_h2)\n",
    "                    t0_index = t0_h2.index(two_signals_h2[0])\n",
    "                    \n",
    "                    if t0_index == 1:\n",
    "                        two_signals_lag[0] = sign*new_median\n",
    "                        left = new_left\n",
    "                        right = new_right\n",
    "                        new_left = (new_left+new_median)//2\n",
    "                        new_right = (new_median+new_right)//2\n",
    "                    elif t0_index == 0:\n",
    "                        two_signals_lag[0] = sign*new_left\n",
    "                        if left==new_left:\n",
    "                            right = new_right = new_median\n",
    "                            new_median = (new_right+new_left)//2\n",
    "                        else:\n",
    "                            right = new_median\n",
    "                            new_right = (new_median+new_left)//2\n",
    "                            new_median = new_left\n",
    "                            new_left = (left+new_left)//2\n",
    "                    else:\n",
    "                        two_signals_lag[0] = sign*new_right\n",
    "                        if right==new_right:\n",
    "                            left = new_left = new_median\n",
    "                            new_median = (new_right+new_left)//2\n",
    "                        else:\n",
    "                            left = new_median\n",
    "                            new_left = (new_median+new_right)//2\n",
    "                            new_median = new_right\n",
    "                            new_right = (new_right+right)//2\n",
    "                    \n",
    "                sign = (-1)**(t1_index+1)\n",
    "                dict_sample.clear()\n",
    "                if t1_h2_max>two_signals_h2[1]:\n",
    "                    two_signals_h2[1] = t1_h2_max\n",
    "                    sub1_h2 = t1_index//2 + 1\n",
    "                    two_signals_lag[1] = sign*sample_points[sub1_h2]\n",
    "                    if sub1_h2 < (sample_num - 1):\n",
    "                        left = sample_points[sub1_h2-1]\n",
    "                        right = sample_points[sub1_h2+1]\n",
    "                        new_median = sample_points[sub1_h2]\n",
    "                        new_left = (left+new_median)//2\n",
    "                        new_right = (right+new_median)//2\n",
    "                        #dict_sample[left] = t0_h2[t0_index-2]\n",
    "                        dict_sample[new_median] = t1_h2[t1_index]\n",
    "                        #dict_sample[right] = t0_h2[t0_index+2]\n",
    "                    else:\n",
    "                        left = sample_points[sub1_h2-2]\n",
    "                        new_right = right = sample_points[sub1_h2]\n",
    "                        new_median = (sample_points[sub1_h2]+sample_points[sub1_h2-1])//2\n",
    "                        new_left = (sample_points[sub1_h2-1]+sample_points[sub1_h2-2])//2\n",
    "                        dict_sample[sample_points[sub1_h2-1]] = t1_h2[t1_index-2]\n",
    "                        dict_sample[right] = t1_h2[t1_index]\n",
    "                else:\n",
    "                    right = sample_points[2]\n",
    "                    new_left = left = 0\n",
    "                    new_right = (right+sample_points[1])//2\n",
    "                    new_median = sample_points[1]//2\n",
    "                    dict_sample[sample_points[1]] = t1_h2[(1+sign)//2]\n",
    "                    dict_sample[0] = two_signals_h2[1]\n",
    "                \n",
    "                #print(sign,t0_index,sample_points[t0_index//2 + 1],left,right,new_left,new_median,new_right)\n",
    "                while (new_right-new_left) >= 2:\n",
    "                    t1_h2 = []\n",
    "                    if dict_sample.get(new_left):\n",
    "                        t1_h2.append(dict_sample[new_left])\n",
    "                    else:\n",
    "                        if sign<0: # 说明sx向右移\n",
    "                            sxx = signals[si1][start_samples+new_left:stop_samples+new_left]\n",
    "                            t1_h2.append(h2_modify(s2,sxx,L))\n",
    "                        else:\n",
    "                            syy = signals[si2][start_samples+new_left:stop_samples+new_left]\n",
    "                            t1_h2.append(h2_modify(syy,s1,L))\n",
    "                        dict_sample[new_left] = t1_h2[0]\n",
    "                            \n",
    "                    if dict_sample.get(new_median):\n",
    "                        t1_h2.append(dict_sample[new_median])\n",
    "                    else:\n",
    "                        if sign<0: # 说明sx向右移\n",
    "                            sxx = signals[si1][start_samples+new_median:stop_samples+new_median]\n",
    "                            t1_h2.append(h2_modify(s2,sxx,L))\n",
    "                        else:\n",
    "                            syy = signals[si2][start_samples+new_median:stop_samples+new_median]\n",
    "                            t1_h2.append(h2_modify(syy,s1,L))\n",
    "                        dict_sample[new_median] = t1_h2[1]\n",
    "                        \n",
    "                    if dict_sample.get(new_right):\n",
    "                        t1_h2.append(dict_sample[new_right])\n",
    "                    else:\n",
    "                        if sign<0: # 说明sx向右移\n",
    "                            sxx = signals[si1][start_samples+new_right:stop_samples+new_right]\n",
    "                            t1_h2.append(h2_modify(s2,sxx,L))\n",
    "                        else:\n",
    "                            syy = signals[si2][start_samples+new_right:stop_samples+new_right]\n",
    "                            t1_h2.append(h2_modify(syy,s1,L))\n",
    "                        dict_sample[new_right] = t1_h2[2]\n",
    "                            \n",
    "                    two_signals_h2[1] = max(t1_h2)\n",
    "                    t1_index = t1_h2.index(two_signals_h2[1])\n",
    "                    \n",
    "                    if t1_index == 1:\n",
    "                        two_signals_lag[1] = sign*new_median\n",
    "                        left = new_left\n",
    "                        right = new_right\n",
    "                        new_left = (new_left+new_median)//2\n",
    "                        new_right = (new_median+new_right)//2\n",
    "                    elif t1_index == 0:\n",
    "                        two_signals_lag[1] = sign*new_left\n",
    "                        if left==new_left:\n",
    "                            right = new_right = new_median\n",
    "                            new_median = (new_right+new_left)//2\n",
    "                        else:\n",
    "                            right = new_median\n",
    "                            new_right = (new_median+new_left)//2\n",
    "                            new_median = new_left\n",
    "                            new_left = (left+new_left)//2\n",
    "                    else:\n",
    "                        two_signals_lag[1] = sign*new_right\n",
    "                        if right==new_right:\n",
    "                            left = new_left = new_median\n",
    "                            new_median = (new_right+new_left)//2\n",
    "                        else:\n",
    "                            left = new_median\n",
    "                            new_left = (new_median+new_right)//2\n",
    "                            new_median = new_right\n",
    "                            new_right = (new_right+right)//2\n",
    "                            \n",
    "                    #print(t0_index,left,right,new_left,new_median,new_right)        \n",
    "                #print(dict_sample)\n",
    "                \n",
    "                signals_h2[si1,si2] = two_signals_h2[0]\n",
    "                signals_h2[si2,si1] = two_signals_h2[1]\n",
    "                signals_lag[si1,si2] = two_signals_lag[0]\n",
    "                signals_lag[si2,si1] = two_signals_lag[1]\n",
    "                \n",
    "        h2_value.append(signals_h2)\n",
    "        lag_value.append(signals_lag)\n",
    "    \n",
    "    #print(time_flexity)\n",
    "    return h2_value,lag_value"
   ]
  },
  {
   "cell_type": "code",
   "execution_count": 169,
   "metadata": {},
   "outputs": [],
   "source": [
    "def print_h2_lag(h2_value,lag_value):\n",
    "    for i,h2_i,lag_i in zip(range(len(h2_value)),h2_value,lag_value):\n",
    "        print(i+1,\"：\",lag_i[0],lag_i[1],'\\n',h2_i)\n",
    "        print()"
   ]
  },
  {
   "cell_type": "code",
   "execution_count": 109,
   "metadata": {},
   "outputs": [],
   "source": [
    "s1=record[56][1000:2000]\n",
    "s2=record[66][1000:2000]\n",
    "sxy=pd.DataFrame({'x':s1,'y':s2})\n",
    "bins=np.linspace(np.min(s1)-0.0001,np.max(s1),7)\n",
    "sxy['bins']=pd.cut(sxy['x'],bins,labels=range(1,len(bins)),include_lowest=True)"
   ]
  },
  {
   "cell_type": "code",
   "execution_count": 163,
   "metadata": {},
   "outputs": [],
   "source": [
    "signals1 = np.array([record[56],record[66]])\n",
    "signals2 = np.array([record[46],record[56]])\n",
    "signals3 = np.array([record[46],record[56],record[66]])"
   ]
  },
  {
   "cell_type": "code",
   "execution_count": 52,
   "metadata": {},
   "outputs": [
    {
     "data": {
      "text/plain": [
       "-636.826138704509"
      ]
     },
     "execution_count": 52,
     "metadata": {},
     "output_type": "execute_result"
    }
   ],
   "source": [
    "sxy.iloc[0]['y']"
   ]
  },
  {
   "cell_type": "code",
   "execution_count": 110,
   "metadata": {},
   "outputs": [
    {
     "data": {
      "text/plain": [
       "array([8408.20508807, 8440.01761205, 8471.83013602, 8503.64266   ,\n",
       "       8535.45518398, 8567.26770796, 8599.08023194])"
      ]
     },
     "execution_count": 110,
     "metadata": {},
     "output_type": "execute_result"
    }
   ],
   "source": [
    "bins"
   ]
  },
  {
   "cell_type": "code",
   "execution_count": 79,
   "metadata": {},
   "outputs": [
    {
     "name": "stdout",
     "output_type": "stream",
     "text": [
      "Q_P_k： 0:00:00.010995\n",
      "计算f： 0:00:00.664755\n",
      "计算h2： 0:00:00\n",
      "0:00:00.676749\n"
     ]
    }
   ],
   "source": [
    "t_start = datetime.datetime.now()\n",
    "h2_11 = h2(record[46][1000:2000],record[56][1000:2000],7)\n",
    "t_end = datetime.datetime.now()\n",
    "print(t_end-t_start)"
   ]
  },
  {
   "cell_type": "code",
   "execution_count": 161,
   "metadata": {},
   "outputs": [
    {
     "name": "stdout",
     "output_type": "stream",
     "text": [
      "Q_P_k： 0:00:00.010996\n",
      "切割： 0:00:00.002998\n",
      "计算f： 0:00:00.617773\n",
      "计算h2： 0:00:00\n",
      "0:00:00.631767\n"
     ]
    }
   ],
   "source": [
    "t_start = datetime.datetime.now()\n",
    "h2_11 = h2(record[46][1000:2000],record[56][1000:2000],7)\n",
    "t_end = datetime.datetime.now()\n",
    "print(t_end-t_start)"
   ]
  },
  {
   "cell_type": "code",
   "execution_count": 126,
   "metadata": {},
   "outputs": [
    {
     "data": {
      "text/plain": [
       "0.060101813316772446"
      ]
     },
     "execution_count": 126,
     "metadata": {},
     "output_type": "execute_result"
    }
   ],
   "source": [
    "h2_11"
   ]
  },
  {
   "cell_type": "code",
   "execution_count": 159,
   "metadata": {},
   "outputs": [
    {
     "name": "stdout",
     "output_type": "stream",
     "text": [
      "0:00:00.006995\n"
     ]
    }
   ],
   "source": [
    "t_start = datetime.datetime.now()\n",
    "h2_21 = h2_modify(record[46][1000:2000],record[56][1000:2000])\n",
    "t_end = datetime.datetime.now()\n",
    "print(t_end-t_start)"
   ]
  },
  {
   "cell_type": "code",
   "execution_count": 160,
   "metadata": {},
   "outputs": [
    {
     "data": {
      "text/plain": [
       "0.06010181331630571"
      ]
     },
     "execution_count": 160,
     "metadata": {},
     "output_type": "execute_result"
    }
   ],
   "source": [
    "h2_21"
   ]
  },
  {
   "cell_type": "code",
   "execution_count": 168,
   "metadata": {},
   "outputs": [
    {
     "name": "stdout",
     "output_type": "stream",
     "text": [
      "1593\n",
      "0:00:00.247909\n"
     ]
    }
   ],
   "source": [
    "t_start = datetime.datetime.now()\n",
    "h2_f1,lag_f1 = H2_filter(signals2,0,10,1000,slideWindow=2,step=1,maxlag=0.1)\n",
    "t_end = datetime.datetime.now()\n",
    "print(t_end-t_start)"
   ]
  },
  {
   "cell_type": "code",
   "execution_count": 171,
   "metadata": {},
   "outputs": [
    {
     "name": "stdout",
     "output_type": "stream",
     "text": [
      "1 ： [0. 0.] [0. 0.] \n",
      " [[0.         0.01808417]\n",
      " [0.02692431 0.        ]]\n",
      "\n",
      "2 ： [0. 0.] [0. 0.] \n",
      " [[0.         0.32238066]\n",
      " [0.31455404 0.        ]]\n",
      "\n",
      "3 ： [0. 0.] [0. 0.] \n",
      " [[0.         0.17195665]\n",
      " [0.21871529 0.        ]]\n",
      "\n",
      "4 ： [0. 0.] [0. 0.] \n",
      " [[0.         0.0982786 ]\n",
      " [0.09627234 0.        ]]\n",
      "\n",
      "5 ： [0. 0.] [0. 0.] \n",
      " [[0.         0.15186384]\n",
      " [0.00982948 0.        ]]\n",
      "\n",
      "6 ： [0. 0.] [0. 0.] \n",
      " [[0.         0.20296778]\n",
      " [0.08522396 0.        ]]\n",
      "\n",
      "7 ： [0. 0.] [0. 0.] \n",
      " [[0.         0.06732993]\n",
      " [0.09029459 0.        ]]\n",
      "\n",
      "8 ： [0. 0.] [0. 0.] \n",
      " [[0.         0.09893968]\n",
      " [0.157991   0.        ]]\n",
      "\n"
     ]
    }
   ],
   "source": [
    "print_h2_lag(h2_f1,lag_f1)"
   ]
  },
  {
   "cell_type": "code",
   "execution_count": 175,
   "metadata": {},
   "outputs": [
    {
     "name": "stdout",
     "output_type": "stream",
     "text": [
      "1593\n",
      "0:00:49.389857\n"
     ]
    }
   ],
   "source": [
    "t_start = datetime.datetime.now()\n",
    "h2_f2,lag_f2 = H2_filter(signals2,0,10,1000,slideWindow=2,step=1,maxlag=0.1)\n",
    "t_end = datetime.datetime.now()\n",
    "print(t_end-t_start)"
   ]
  },
  {
   "cell_type": "code",
   "execution_count": 174,
   "metadata": {},
   "outputs": [
    {
     "name": "stdout",
     "output_type": "stream",
     "text": [
      "1 ： [ 0. 90.] [-90.   0.] \n",
      " [[0.         0.22235251]\n",
      " [0.16583793 0.        ]]\n",
      "\n",
      "2 ： [  0. -50.] [30.  0.] \n",
      " [[0.         0.3877137 ]\n",
      " [0.37726124 0.        ]]\n",
      "\n",
      "3 ： [  0. -90.] [-60.   0.] \n",
      " [[0.         0.31107288]\n",
      " [0.31487182 0.        ]]\n",
      "\n",
      "4 ： [ 0. 80.] [-80.   0.] \n",
      " [[0.         0.16943156]\n",
      " [0.20150836 0.        ]]\n",
      "\n",
      "5 ： [  0. -20.] [90.  0.] \n",
      " [[0.         0.17348006]\n",
      " [0.0403989  0.        ]]\n",
      "\n",
      "6 ： [ 0. 40.] [90.  0.] \n",
      " [[0.         0.22538822]\n",
      " [0.11393726 0.        ]]\n",
      "\n",
      "7 ： [ 0. 99.] [-16.   0.] \n",
      " [[0.         0.10700302]\n",
      " [0.09872842 0.        ]]\n",
      "\n",
      "8 ： [ 0. 40.] [-40.   0.] \n",
      " [[0.         0.11028308]\n",
      " [0.17347399 0.        ]]\n",
      "\n"
     ]
    }
   ],
   "source": [
    "print_h2_lag(h2_f2,lag_f2)"
   ]
  },
  {
   "cell_type": "code",
   "execution_count": 183,
   "metadata": {},
   "outputs": [
    {
     "name": "stdout",
     "output_type": "stream",
     "text": [
      "0:00:04.850217\n"
     ]
    }
   ],
   "source": [
    "t_start = datetime.datetime.now()\n",
    "h2_df1,lag_df1 = H2_dichotomy_filter(signals2,0,10,1000,slideWindow=2,step=1,maxlag=0.1)\n",
    "t_end = datetime.datetime.now()\n",
    "print(t_end-t_start)"
   ]
  },
  {
   "cell_type": "code",
   "execution_count": 184,
   "metadata": {},
   "outputs": [
    {
     "name": "stdout",
     "output_type": "stream",
     "text": [
      "1 ： [ 0. 90.] [-90.   0.] \n",
      " [[0.         0.22235251]\n",
      " [0.16583793 0.        ]]\n",
      "\n",
      "2 ： [  0. -46.] [30.  0.] \n",
      " [[0.         0.38352   ]\n",
      " [0.37726124 0.        ]]\n",
      "\n",
      "3 ： [  0. -90.] [-60.   0.] \n",
      " [[0.         0.31107288]\n",
      " [0.31487182 0.        ]]\n",
      "\n",
      "4 ： [  0. -99.] [-99.   0.] \n",
      " [[0.         0.16592513]\n",
      " [0.19340851 0.        ]]\n",
      "\n",
      "5 ： [  0. -20.] [-70.   0.] \n",
      " [[0.         0.17348006]\n",
      " [0.03888954 0.        ]]\n",
      "\n",
      "6 ： [ 0. 40.] [90.  0.] \n",
      " [[0.         0.22538822]\n",
      " [0.11393726 0.        ]]\n",
      "\n",
      "7 ： [ 0. 99.] [-16.   0.] \n",
      " [[0.         0.10700302]\n",
      " [0.09872842 0.        ]]\n",
      "\n",
      "8 ： [ 0. 40.] [-40.   0.] \n",
      " [[0.         0.11028308]\n",
      " [0.17347399 0.        ]]\n",
      "\n"
     ]
    }
   ],
   "source": [
    "print_h2_lag(h2_df1,lag_df1)"
   ]
  },
  {
   "cell_type": "code",
   "execution_count": 190,
   "metadata": {},
   "outputs": [],
   "source": [
    "h2_f3,lag_f3 = H2_filter(signals2,0,10,1000,slideWindow=2,step=1,maxlag=0.1,HP=1,LP=45)"
   ]
  },
  {
   "cell_type": "code",
   "execution_count": 187,
   "metadata": {},
   "outputs": [
    {
     "name": "stdout",
     "output_type": "stream",
     "text": [
      "1 ： [ 0. 90.] [22.  0.] \n",
      " [[0.         0.13544694]\n",
      " [0.09953406 0.        ]]\n",
      "\n",
      "2 ： [  0. -45.] [34.  0.] \n",
      " [[0.         0.19309163]\n",
      " [0.19213968 0.        ]]\n",
      "\n",
      "3 ： [  0. -99.] [89.  0.] \n",
      " [[0.         0.09243174]\n",
      " [0.14953547 0.        ]]\n",
      "\n",
      "4 ： [  0. -92.] [-81.   0.] \n",
      " [[0.         0.16208628]\n",
      " [0.14914188 0.        ]]\n",
      "\n",
      "5 ： [ 0. -1.] [80.  0.] \n",
      " [[0.         0.21224279]\n",
      " [0.07859549 0.        ]]\n",
      "\n",
      "6 ： [ 0. 81.] [95.  0.] \n",
      " [[0.         0.20841801]\n",
      " [0.14558748 0.        ]]\n",
      "\n",
      "7 ： [0. 2.] [4. 0.] \n",
      " [[0.         0.14786378]\n",
      " [0.20623865 0.        ]]\n",
      "\n",
      "8 ： [0. 0.] [0. 0.] \n",
      " [[0.         0.26385045]\n",
      " [0.21083102 0.        ]]\n",
      "\n"
     ]
    }
   ],
   "source": [
    "print_h2_lag(h2_f3,lag_f3)"
   ]
  },
  {
   "cell_type": "code",
   "execution_count": 191,
   "metadata": {},
   "outputs": [
    {
     "name": "stdout",
     "output_type": "stream",
     "text": [
      "0:01:51.276130\n"
     ]
    }
   ],
   "source": [
    "t_start = datetime.datetime.now()\n",
    "h2_df3,lag_df3 = H2_filter(signals2,0,10,1000,slideWindow=2,step=1,maxlag=0.2)\n",
    "t_end = datetime.datetime.now()\n",
    "print(t_end-t_start)"
   ]
  },
  {
   "cell_type": "code",
   "execution_count": 193,
   "metadata": {},
   "outputs": [
    {
     "name": "stdout",
     "output_type": "stream",
     "text": [
      "1 ： [   0. -170.] [170.   0.] \n",
      " [[0.         0.32315543]\n",
      " [0.33494444 0.        ]]\n",
      "\n",
      "2 ： [  0. -50.] [30.  0.] \n",
      " [[0.         0.3877137 ]\n",
      " [0.37726124 0.        ]]\n",
      "\n",
      "3 ： [  0. -90.] [130.   0.] \n",
      " [[0.         0.31107288]\n",
      " [0.34903774 0.        ]]\n",
      "\n",
      "4 ： [   0. -110.] [-100.    0.] \n",
      " [[0.         0.19811423]\n",
      " [0.2063928  0.        ]]\n",
      "\n",
      "5 ： [  0. -20.] [190.   0.] \n",
      " [[0.         0.17348006]\n",
      " [0.14632529 0.        ]]\n",
      "\n",
      "6 ： [ 0. 40.] [110.   0.] \n",
      " [[0.         0.22538822]\n",
      " [0.12013521 0.        ]]\n",
      "\n",
      "7 ： [  0. 110.] [199.   0.] \n",
      " [[0.         0.12606271]\n",
      " [0.10691637 0.        ]]\n",
      "\n",
      "8 ： [  0. 199.] [-199.    0.] \n",
      " [[0.         0.19443809]\n",
      " [0.22594219 0.        ]]\n",
      "\n"
     ]
    }
   ],
   "source": [
    "print_h2_lag(h2_df3,lag_df3)"
   ]
  }
 ],
 "metadata": {
  "kernelspec": {
   "display_name": "Python 3",
   "language": "python",
   "name": "python3"
  },
  "language_info": {
   "codemirror_mode": {
    "name": "ipython",
    "version": 3
   },
   "file_extension": ".py",
   "mimetype": "text/x-python",
   "name": "python",
   "nbconvert_exporter": "python",
   "pygments_lexer": "ipython3",
   "version": "3.7.1"
  }
 },
 "nbformat": 4,
 "nbformat_minor": 2
}
