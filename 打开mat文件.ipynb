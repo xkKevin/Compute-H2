{
 "cells": [
  {
   "cell_type": "code",
   "execution_count": 1,
   "metadata": {},
   "outputs": [],
   "source": [
    "import numpy as np\n",
    "import pandas as pd\n",
    "import matplotlib.pyplot as plt\n",
    "import scipy.io as sio"
   ]
  },
  {
   "cell_type": "code",
   "execution_count": 3,
   "metadata": {},
   "outputs": [],
   "source": [
    "h2=sio.loadmat(r\"D:\\BaiduNetdiskDownload\\sz1.edf_H2_NoHP_NoLP.mat\")\n",
    "r2=sio.loadmat(r\"D:\\BaiduNetdiskDownload\\sz1.edf_R2_NoHP_NoLP.mat\")"
   ]
  },
  {
   "cell_type": "code",
   "execution_count": 18,
   "metadata": {},
   "outputs": [],
   "source": [
    "sio.savemat(r\"D:\\data\\mytest\\testpython.mat\",{'a':\"风\",\"b\":\"云\",\"numArr\":np.random.randint(0,100,(2,5)),\"num\":12.3})"
   ]
  },
  {
   "cell_type": "code",
   "execution_count": 19,
   "metadata": {},
   "outputs": [],
   "source": [
    "test = sio.loadmat(r\"D:\\data\\mytest\\testpython.mat\")"
   ]
  },
  {
   "cell_type": "code",
   "execution_count": 20,
   "metadata": {},
   "outputs": [
    {
     "data": {
      "text/plain": [
       "{'__header__': b'MATLAB 5.0 MAT-file Platform: nt, Created on: Sun Mar 24 15:39:57 2019',\n",
       " '__version__': '1.0',\n",
       " '__globals__': [],\n",
       " 'a': array(['风'], dtype='<U1'),\n",
       " 'b': array(['云'], dtype='<U1'),\n",
       " 'numArr': array([[85, 55, 17, 57, 45],\n",
       "        [90, 77, 49, 39, 52]]),\n",
       " 'num': array([[12.3]])}"
      ]
     },
     "execution_count": 20,
     "metadata": {},
     "output_type": "execute_result"
    }
   ],
   "source": [
    "test"
   ]
  },
  {
   "cell_type": "code",
   "execution_count": 21,
   "metadata": {},
   "outputs": [
    {
     "name": "stdout",
     "output_type": "stream",
     "text": [
      "__header__\n",
      "__version__\n",
      "__globals__\n",
      "a\n",
      "b\n",
      "numArr\n",
      "num\n"
     ]
    }
   ],
   "source": [
    "for k in test.keys():\n",
    "    print(k)"
   ]
  },
  {
   "cell_type": "code",
   "execution_count": 22,
   "metadata": {},
   "outputs": [
    {
     "data": {
      "text/plain": [
       "(dict, numpy.ndarray, numpy.str_)"
      ]
     },
     "execution_count": 22,
     "metadata": {},
     "output_type": "execute_result"
    }
   ],
   "source": [
    "type(test),type(test['a']),type(test['a'][0])"
   ]
  },
  {
   "cell_type": "code",
   "execution_count": 32,
   "metadata": {},
   "outputs": [
    {
     "data": {
      "text/plain": [
       "(array(['风'], dtype='<U1'), '风', array([12.3]), 12.3, 85)"
      ]
     },
     "execution_count": 32,
     "metadata": {},
     "output_type": "execute_result"
    }
   ],
   "source": [
    "test['a'],test['a'][0],test[\"num\"][0],test[\"num\"][0][0],test[\"numArr\"][0][0]"
   ]
  },
  {
   "cell_type": "code",
   "execution_count": 26,
   "metadata": {},
   "outputs": [
    {
     "name": "stdout",
     "output_type": "stream",
     "text": [
      "(2, 5)\n"
     ]
    },
    {
     "data": {
      "text/plain": [
       "array([[85, 55, 17, 57, 45],\n",
       "       [90, 77, 49, 39, 52]])"
      ]
     },
     "execution_count": 26,
     "metadata": {},
     "output_type": "execute_result"
    }
   ],
   "source": [
    "print(test[\"numArr\"].shape)\n",
    "test[\"numArr\"]"
   ]
  },
  {
   "cell_type": "code",
   "execution_count": 29,
   "metadata": {},
   "outputs": [
    {
     "data": {
      "text/plain": [
       "((1, 1), (1,))"
      ]
     },
     "execution_count": 29,
     "metadata": {},
     "output_type": "execute_result"
    }
   ],
   "source": [
    "test[\"num\"].shape,test['a'].shape"
   ]
  },
  {
   "cell_type": "code",
   "execution_count": 33,
   "metadata": {},
   "outputs": [
    {
     "data": {
      "text/plain": [
       "{'__header__': b'MATLAB 5.0 MAT-file, Platform: x86_64-pc-windows, Created by: libmatio v1.5.10 on Sun Mar 24 02:14:37 2019',\n",
       " '__version__': '1.0',\n",
       " '__globals__': [],\n",
       " 'method': array(['h2'], dtype='<U2'),\n",
       " 'band': array(['AnyWave'], dtype='<U7'),\n",
       " 'filters': array([[0., 0.]]),\n",
       " 'hour': array([[23]]),\n",
       " 'minute': array([[47]]),\n",
       " 'second': array([[59]]),\n",
       " 'day': array([[0]]),\n",
       " 'month': array([[0]]),\n",
       " 'year': array([[0]]),\n",
       " 'aw_windowSize': array([[2.]], dtype=float32),\n",
       " 'aw_step': array([[1.]], dtype=float32),\n",
       " 'aw_maxLag': array([[0.1]], dtype=float32),\n",
       " 'aw_start': array([[0.]], dtype=float32),\n",
       " 'electrode_names': array([[array(['C46'], dtype='<U3'), array(['C56'], dtype='<U3'),\n",
       "         array(['C66'], dtype='<U3')]], dtype=object),\n",
       " 'aw_h2': array([[[0.        , 0.        , 0.        , 0.        , 0.        ,\n",
       "          0.        , 0.        , 0.        , 0.        , 0.        ],\n",
       "         [0.22940763, 0.38721366, 0.30799533, 0.23907062, 0.18548801,\n",
       "          0.26667174, 0.13927964, 0.11605116, 0.34362744, 0.43845953],\n",
       "         [0.27540433, 0.16604447, 0.19465281, 0.16712893, 0.36750972,\n",
       "          0.38345331, 0.1988814 , 0.23171449, 0.17486474, 0.11642392]],\n",
       " \n",
       "        [[0.16382406, 0.31656182, 0.3132124 , 0.22009172, 0.04808032,\n",
       "          0.11935707, 0.10936112, 0.1562151 , 0.30906676, 0.42898097],\n",
       "         [0.        , 0.        , 0.        , 0.        , 0.        ,\n",
       "          0.        , 0.        , 0.        , 0.        , 0.        ],\n",
       "         [0.25388223, 0.38512193, 0.4407225 , 0.3752543 , 0.61053618,\n",
       "          0.68276382, 0.28509567, 0.34108584, 0.56896328, 0.51133551]],\n",
       " \n",
       "        [[0.219937  , 0.23530818, 0.22797606, 0.12797121, 0.16849485,\n",
       "          0.27833406, 0.17375002, 0.15537764, 0.52752165, 0.17345369],\n",
       "         [0.33444679, 0.47252725, 0.47089774, 0.3900211 , 0.60451751,\n",
       "          0.61854495, 0.27056804, 0.38932088, 0.66107051, 0.5097854 ],\n",
       "         [0.        , 0.        , 0.        , 0.        , 0.        ,\n",
       "          0.        , 0.        , 0.        , 0.        , 0.        ]]]),\n",
       " 'aw_lag': array([[[  0.,   0.,   0.,   0.,   0.,   0.,   0.,   0.,   0.,   0.],\n",
       "         [ 90.,  34., -70., -94.,   0.,  40., -80.,  40., -20.,  20.],\n",
       "         [-20., -98., -90.,   4.,   0.,  90., -96.,  36., -70.,  20.]],\n",
       " \n",
       "        [[-90., -43., -60., -80., -50.,  90.,   2., -40.,  20., -60.],\n",
       "         [  0.,   0.,   0.,   0.,   0.,   0.,   0.,   0.,   0.,   0.],\n",
       "         [  0., -97., -98.,   0.,   0.,   0.,   0.,   0.,   0.,   0.]],\n",
       " \n",
       "        [[ 20.,  67.,  98.,  90.,  30., -90.,  98.,  40.,  50.,   0.],\n",
       "         [  0.,  98.,  96.,   0.,   0.,   0.,   0.,   0.,   0.,   0.],\n",
       "         [  0.,   0.,   0.,   0.,   0.,   0.,   0.,   0.,   0.,   0.]]]),\n",
       " 'time': array([[   0,  999, 1998, 2998, 3997, 4997, 5996, 6995, 7995, 8994]]),\n",
       " 'time_s': array([[0., 1., 2., 3., 4., 5., 6., 7., 8., 9.]]),\n",
       " 'section': array([[0, 0, 0, 0, 0, 0, 0, 0, 0, 0]]),\n",
       " 'channel': array([[0, 0, 0, 0, 0, 0, 0, 0, 0, 0]]),\n",
       " 'nb_section': array([[1]]),\n",
       " 'section_iterations': array([[10]]),\n",
       " 'samplingRate': array([[999.4121]], dtype=float32),\n",
       " 'sections': array([[array(['2_4_1'], dtype='<U5')]], dtype=object)}"
      ]
     },
     "execution_count": 33,
     "metadata": {},
     "output_type": "execute_result"
    }
   ],
   "source": [
    "h2"
   ]
  },
  {
   "cell_type": "code",
   "execution_count": 38,
   "metadata": {},
   "outputs": [
    {
     "data": {
      "text/plain": [
       "(23, array([[0.        , 0.22940763, 0.27540433],\n",
       "        [0.16382406, 0.        , 0.25388223],\n",
       "        [0.219937  , 0.33444679, 0.        ]]))"
      ]
     },
     "execution_count": 38,
     "metadata": {},
     "output_type": "execute_result"
    }
   ],
   "source": [
    "h2['hour'][0][0],h2[\"aw_h2\"][:,:,0]"
   ]
  },
  {
   "cell_type": "code",
   "execution_count": 39,
   "metadata": {},
   "outputs": [
    {
     "data": {
      "text/plain": [
       "(3, 3, 10)"
      ]
     },
     "execution_count": 39,
     "metadata": {},
     "output_type": "execute_result"
    }
   ],
   "source": [
    "h2[\"aw_h2\"].shape"
   ]
  }
 ],
 "metadata": {
  "kernelspec": {
   "display_name": "Python 3",
   "language": "python",
   "name": "python3"
  },
  "language_info": {
   "codemirror_mode": {
    "name": "ipython",
    "version": 3
   },
   "file_extension": ".py",
   "mimetype": "text/x-python",
   "name": "python",
   "nbconvert_exporter": "python",
   "pygments_lexer": "ipython3",
   "version": "3.7.1"
  }
 },
 "nbformat": 4,
 "nbformat_minor": 2
}
