{
 "cells": [
  {
   "cell_type": "code",
   "execution_count": 1,
   "metadata": {},
   "outputs": [],
   "source": [
    "import numpy as np\n",
    "import pandas as pd\n",
    "import matplotlib.pyplot as plt\n",
    "from scipy.io import loadmat"
   ]
  },
  {
   "cell_type": "code",
   "execution_count": 2,
   "metadata": {},
   "outputs": [],
   "source": [
    "h2=loadmat(r\"D:\\BaiduNetdiskDownload\\sz1.edf_H2_NoHP_NoLP.mat\")\n",
    "r2=loadmat(r\"D:\\BaiduNetdiskDownload\\sz1.edf_R2_NoHP_NoLP.mat\")"
   ]
  },
  {
   "cell_type": "code",
   "execution_count": 3,
   "metadata": {},
   "outputs": [
    {
     "data": {
      "text/plain": [
       "{'__header__': b'MATLAB 5.0 MAT-file, Platform: x86_64-pc-windows, Created by: libmatio v1.5.10 on Wed Mar 20 16:03:38 2019',\n",
       " '__version__': '1.0',\n",
       " '__globals__': [],\n",
       " 'method': array(['h2'], dtype='<U2'),\n",
       " 'band': array(['AnyWave'], dtype='<U7'),\n",
       " 'filters': array([[0., 0.]]),\n",
       " 'hour': array([[23]]),\n",
       " 'minute': array([[47]]),\n",
       " 'second': array([[59]]),\n",
       " 'day': array([[0]]),\n",
       " 'month': array([[0]]),\n",
       " 'year': array([[0]]),\n",
       " 'aw_windowSize': array([[2.]], dtype=float32),\n",
       " 'aw_step': array([[1.]], dtype=float32),\n",
       " 'aw_maxLag': array([[0.1]], dtype=float32),\n",
       " 'aw_start': array([[0.]], dtype=float32),\n",
       " 'electrode_names': array([[array(['C56'], dtype='<U3'), array(['C62'], dtype='<U3'),\n",
       "         array(['C66'], dtype='<U3')]], dtype=object),\n",
       " 'aw_h2': array([[[0.        , 0.        , 0.        , 0.        , 0.        ,\n",
       "          0.        , 0.        , 0.        , 0.        , 0.        ],\n",
       "         [0.27492217, 0.20313358, 0.2352589 , 0.15102417, 0.13218921,\n",
       "          0.28172807, 0.13982167, 0.3739709 , 0.44725462, 0.18171224],\n",
       "         [0.25388223, 0.38512193, 0.4407225 , 0.3752543 , 0.61053618,\n",
       "          0.68276382, 0.28509567, 0.34108584, 0.56896328, 0.51133551]],\n",
       " \n",
       "        [[0.22954475, 0.15685964, 0.2159999 , 0.25030627, 0.17689598,\n",
       "          0.37947716, 0.10707971, 0.37875953, 0.50778681, 0.36096311],\n",
       "         [0.        , 0.        , 0.        , 0.        , 0.        ,\n",
       "          0.        , 0.        , 0.        , 0.        , 0.        ],\n",
       "         [0.77416253, 0.7967288 , 0.8144547 , 0.68640214, 0.30494863,\n",
       "          0.3730912 , 0.2545827 , 0.54844087, 0.74378759, 0.5023917 ]],\n",
       " \n",
       "        [[0.33444679, 0.47252725, 0.47089774, 0.3900211 , 0.60451751,\n",
       "          0.61854495, 0.27056804, 0.38932088, 0.66107051, 0.5097854 ],\n",
       "         [0.78844691, 0.78124867, 0.7857622 , 0.66450258, 0.28010069,\n",
       "          0.20477989, 0.25864528, 0.55398195, 0.75741294, 0.47351322],\n",
       "         [0.        , 0.        , 0.        , 0.        , 0.        ,\n",
       "          0.        , 0.        , 0.        , 0.        , 0.        ]]]),\n",
       " 'aw_lag': array([[[  0.,   0.,   0.,   0.,   0.,   0.,   0.,   0.,   0.,   0.],\n",
       "         [  0., -80., -98.,   0.,   0., -90., -90.,   0.,  60., -98.],\n",
       "         [  0., -97., -98.,   0.,   0.,   0.,   0.,   0.,   0.,   0.]],\n",
       " \n",
       "        [[  0.,  80.,  80.,   0., -80.,  90.,  90.,   0., -60., -60.],\n",
       "         [  0.,   0.,   0.,   0.,   0.,   0.,   0.,   0.,   0.,   0.],\n",
       "         [  0.,   0.,   0.,   0.,   0.,  90.,   0.,   0.,   0.,   0.]],\n",
       " \n",
       "        [[  0.,  98.,  96.,   0.,   0.,   0.,   0.,   0.,   0.,   0.],\n",
       "         [  0.,   0.,   0.,   0.,   0., -90.,   0.,   0.,   0.,   0.],\n",
       "         [  0.,   0.,   0.,   0.,   0.,   0.,   0.,   0.,   0.,   0.]]]),\n",
       " 'time': array([[   0,  999, 1998, 2998, 3997, 4997, 5996, 6995, 7995, 8994]]),\n",
       " 'time_s': array([[0., 1., 2., 3., 4., 5., 6., 7., 8., 9.]]),\n",
       " 'section': array([[0, 0, 0, 0, 0, 0, 0, 0, 0, 0]]),\n",
       " 'channel': array([[0, 0, 0, 0, 0, 0, 0, 0, 0, 0]]),\n",
       " 'nb_section': array([[1]]),\n",
       " 'section_iterations': array([[10]]),\n",
       " 'samplingRate': array([[999.4121]], dtype=float32),\n",
       " 'sections': array([[array(['2_4_1'], dtype='<U5')]], dtype=object)}"
      ]
     },
     "execution_count": 3,
     "metadata": {},
     "output_type": "execute_result"
    }
   ],
   "source": [
    "h2"
   ]
  },
  {
   "cell_type": "code",
   "execution_count": 5,
   "metadata": {},
   "outputs": [
    {
     "data": {
      "text/plain": [
       "array([[0.        , 0.27492217, 0.25388223],\n",
       "       [0.22954475, 0.        , 0.77416253],\n",
       "       [0.33444679, 0.78844691, 0.        ]])"
      ]
     },
     "execution_count": 5,
     "metadata": {},
     "output_type": "execute_result"
    }
   ],
   "source": [
    "h2['aw_h2'][:,:,0]"
   ]
  },
  {
   "cell_type": "code",
   "execution_count": 6,
   "metadata": {},
   "outputs": [
    {
     "data": {
      "text/plain": [
       "array([[0.        , 0.2352589 , 0.4407225 ],\n",
       "       [0.2159999 , 0.        , 0.8144547 ],\n",
       "       [0.47089774, 0.7857622 , 0.        ]])"
      ]
     },
     "execution_count": 6,
     "metadata": {},
     "output_type": "execute_result"
    }
   ],
   "source": [
    "h2['aw_h2'][:,:,2]"
   ]
  },
  {
   "cell_type": "code",
   "execution_count": 25,
   "metadata": {},
   "outputs": [
    {
     "data": {
      "text/plain": [
       "array([[  0., -98., -98.],\n",
       "       [ 80.,   0.,   0.],\n",
       "       [ 96.,   0.,   0.]])"
      ]
     },
     "execution_count": 25,
     "metadata": {},
     "output_type": "execute_result"
    }
   ],
   "source": [
    "h2['aw_lag'][:,:,2]"
   ]
  },
  {
   "cell_type": "code",
   "execution_count": 5,
   "metadata": {},
   "outputs": [
    {
     "data": {
      "text/plain": [
       "dict_keys(['__header__', '__version__', '__globals__', 'method', 'band', 'filters', 'hour', 'minute', 'second', 'day', 'month', 'year', 'aw_windowSize', 'aw_step', 'aw_maxLag', 'aw_start', 'electrode_names', 'aw_h2', 'aw_lag', 'time', 'time_s', 'section', 'channel', 'nb_section', 'section_iterations', 'samplingRate', 'sections'])"
      ]
     },
     "execution_count": 5,
     "metadata": {},
     "output_type": "execute_result"
    }
   ],
   "source": [
    "m.keys()"
   ]
  },
  {
   "cell_type": "code",
   "execution_count": 10,
   "metadata": {},
   "outputs": [
    {
     "data": {
      "text/plain": [
       "numpy.ndarray"
      ]
     },
     "execution_count": 10,
     "metadata": {},
     "output_type": "execute_result"
    }
   ],
   "source": [
    "type(m['aw_h2'])"
   ]
  },
  {
   "cell_type": "code",
   "execution_count": 16,
   "metadata": {},
   "outputs": [
    {
     "data": {
      "text/plain": [
       "<matplotlib.collections.PathCollection at 0x25b27f5a6d8>"
      ]
     },
     "execution_count": 16,
     "metadata": {},
     "output_type": "execute_result"
    },
    {
     "data": {
      "image/png": "[encoded data removed]",
      "text/plain": [
       "<Figure size 432x288 with 1 Axes>"
      ]
     },
     "metadata": {
      "needs_background": "light"
     },
     "output_type": "display_data"
    }
   ],
   "source": [
    "plt.scatter([1,2,3,4],[5,8,1,6])"
   ]
  }
 ],
 "metadata": {
  "kernelspec": {
   "display_name": "Python 3",
   "language": "python",
   "name": "python3"
  },
  "language_info": {
   "codemirror_mode": {
    "name": "ipython",
    "version": 3
   },
   "file_extension": ".py",
   "mimetype": "text/x-python",
   "name": "python",
   "nbconvert_exporter": "python",
   "pygments_lexer": "ipython3",
   "version": "3.7.1"
  }
 },
 "nbformat": 4,
 "nbformat_minor": 2
}
